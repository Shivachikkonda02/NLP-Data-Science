{
  "cells": [
    {
      "cell_type": "markdown",
      "metadata": {
        "id": "view-in-github",
        "colab_type": "text"
      },
      "source": [
        "<a href=\"https://colab.research.google.com/github/Shivachikkonda02/NLP-Data-Science/blob/main/NLP%20Data%20Science%20.ipynb\" target=\"_parent\"><img src=\"https://colab.research.google.com/assets/colab-badge.svg\" alt=\"Open In Colab\"/></a>"
      ]
    },
    {
      "cell_type": "code",
      "source": [
        "import nltk"
      ],
      "metadata": {
        "id": "c4ln8YZ4adAb"
      },
      "execution_count": 1,
      "outputs": []
    },
    {
      "cell_type": "code",
      "source": [
        "sentence='Our nation faces a profound climate crisis that is impacting every American '"
      ],
      "metadata": {
        "id": "xlDe4lQaaf1W"
      },
      "execution_count": 2,
      "outputs": []
    },
    {
      "cell_type": "code",
      "source": [
        "sentence"
      ],
      "metadata": {
        "id": "_5qe-JDSa0Zg",
        "outputId": "48cdb7c8-0567-4341-82c1-ef0ed1a2107a",
        "colab": {
          "base_uri": "https://localhost:8080/",
          "height": 36
        }
      },
      "execution_count": 3,
      "outputs": [
        {
          "output_type": "execute_result",
          "data": {
            "text/plain": [
              "'Our nation faces a profound climate crisis that is impacting every American '"
            ],
            "application/vnd.google.colaboratory.intrinsic+json": {
              "type": "string"
            }
          },
          "metadata": {},
          "execution_count": 3
        }
      ]
    },
    {
      "cell_type": "code",
      "source": [
        "#Check Whether the word 'nation' belongs to that text using the following code?\n",
        "def find_word(word,sentence):\n",
        "  return word in sentence"
      ],
      "metadata": {
        "id": "gv57O1OqbWlR"
      },
      "execution_count": 4,
      "outputs": []
    },
    {
      "cell_type": "code",
      "source": [
        "find_word('nation',sentence)"
      ],
      "metadata": {
        "id": "oai5VXwybqdU",
        "outputId": "abdf7ae6-5ae3-40f5-b417-30f3b43be5df",
        "colab": {
          "base_uri": "https://localhost:8080/"
        }
      },
      "execution_count": 5,
      "outputs": [
        {
          "output_type": "execute_result",
          "data": {
            "text/plain": [
              "True"
            ]
          },
          "metadata": {},
          "execution_count": 5
        }
      ]
    },
    {
      "cell_type": "code",
      "source": [
        "#Find out the index value of the word 'crisis' using the following code?\n",
        "def get_index(word,text):\n",
        "  return text.index(word)"
      ],
      "metadata": {
        "id": "5FgbzyigcFvZ"
      },
      "execution_count": 6,
      "outputs": []
    },
    {
      "cell_type": "code",
      "source": [
        "get_index('crisis',sentence)"
      ],
      "metadata": {
        "id": "nNR7wsd0cXwQ",
        "outputId": "3fe6ed7e-2611-42f3-9a43-b7693ee9d9be",
        "colab": {
          "base_uri": "https://localhost:8080/"
        }
      },
      "execution_count": 7,
      "outputs": [
        {
          "output_type": "execute_result",
          "data": {
            "text/plain": [
              "36"
            ]
          },
          "metadata": {},
          "execution_count": 7
        }
      ]
    },
    {
      "cell_type": "code",
      "source": [
        "# To find out the rank of the wprd 'American' use the following code\n",
        "\n",
        "get_index('American',sentence.split())"
      ],
      "metadata": {
        "id": "ieCqIqxzcc-g",
        "outputId": "dfdd2bbe-9c5f-4fa6-f0ed-9341493bd04e",
        "colab": {
          "base_uri": "https://localhost:8080/"
        }
      },
      "execution_count": 8,
      "outputs": [
        {
          "output_type": "execute_result",
          "data": {
            "text/plain": [
              "11"
            ]
          },
          "metadata": {},
          "execution_count": 8
        }
      ]
    },
    {
      "cell_type": "code",
      "source": [
        "# To print the third word of the given text ,use the following code\n",
        "\n",
        "def get_word(text,rank):\n",
        "  return text.split()[rank]"
      ],
      "metadata": {
        "id": "cSTGsUJddCb1"
      },
      "execution_count": 9,
      "outputs": []
    },
    {
      "cell_type": "code",
      "source": [
        "get_word(sentence,2)"
      ],
      "metadata": {
        "id": "Mau0K5k7dlmw",
        "outputId": "5f06024e-ec9c-450f-cd21-a325377552ed",
        "colab": {
          "base_uri": "https://localhost:8080/",
          "height": 36
        }
      },
      "execution_count": 10,
      "outputs": [
        {
          "output_type": "execute_result",
          "data": {
            "text/plain": [
              "'faces'"
            ],
            "application/vnd.google.colaboratory.intrinsic+json": {
              "type": "string"
            }
          },
          "metadata": {},
          "execution_count": 10
        }
      ]
    },
    {
      "cell_type": "code",
      "source": [
        "nltk.download('all')"
      ],
      "metadata": {
        "id": "1c6fOWBOhXoh",
        "outputId": "8ddceadc-d9c5-4975-8196-7050d1609284",
        "colab": {
          "base_uri": "https://localhost:8080/"
        }
      },
      "execution_count": 20,
      "outputs": [
        {
          "output_type": "stream",
          "name": "stderr",
          "text": [
            "[nltk_data] Downloading collection 'all'\n",
            "[nltk_data]    | \n",
            "[nltk_data]    | Downloading package abc to /root/nltk_data...\n",
            "[nltk_data]    |   Unzipping corpora/abc.zip.\n",
            "[nltk_data]    | Downloading package alpino to /root/nltk_data...\n",
            "[nltk_data]    |   Unzipping corpora/alpino.zip.\n",
            "[nltk_data]    | Downloading package averaged_perceptron_tagger to\n",
            "[nltk_data]    |     /root/nltk_data...\n",
            "[nltk_data]    |   Unzipping taggers/averaged_perceptron_tagger.zip.\n",
            "[nltk_data]    | Downloading package averaged_perceptron_tagger_ru to\n",
            "[nltk_data]    |     /root/nltk_data...\n",
            "[nltk_data]    |   Unzipping\n",
            "[nltk_data]    |       taggers/averaged_perceptron_tagger_ru.zip.\n",
            "[nltk_data]    | Downloading package basque_grammars to\n",
            "[nltk_data]    |     /root/nltk_data...\n",
            "[nltk_data]    |   Unzipping grammars/basque_grammars.zip.\n",
            "[nltk_data]    | Downloading package bcp47 to /root/nltk_data...\n",
            "[nltk_data]    | Downloading package biocreative_ppi to\n",
            "[nltk_data]    |     /root/nltk_data...\n",
            "[nltk_data]    |   Unzipping corpora/biocreative_ppi.zip.\n",
            "[nltk_data]    | Downloading package bllip_wsj_no_aux to\n",
            "[nltk_data]    |     /root/nltk_data...\n",
            "[nltk_data]    |   Unzipping models/bllip_wsj_no_aux.zip.\n",
            "[nltk_data]    | Downloading package book_grammars to\n",
            "[nltk_data]    |     /root/nltk_data...\n",
            "[nltk_data]    |   Unzipping grammars/book_grammars.zip.\n",
            "[nltk_data]    | Downloading package brown to /root/nltk_data...\n",
            "[nltk_data]    |   Unzipping corpora/brown.zip.\n",
            "[nltk_data]    | Downloading package brown_tei to /root/nltk_data...\n",
            "[nltk_data]    |   Unzipping corpora/brown_tei.zip.\n",
            "[nltk_data]    | Downloading package cess_cat to /root/nltk_data...\n",
            "[nltk_data]    |   Unzipping corpora/cess_cat.zip.\n",
            "[nltk_data]    | Downloading package cess_esp to /root/nltk_data...\n",
            "[nltk_data]    |   Unzipping corpora/cess_esp.zip.\n",
            "[nltk_data]    | Downloading package chat80 to /root/nltk_data...\n",
            "[nltk_data]    |   Unzipping corpora/chat80.zip.\n",
            "[nltk_data]    | Downloading package city_database to\n",
            "[nltk_data]    |     /root/nltk_data...\n",
            "[nltk_data]    |   Unzipping corpora/city_database.zip.\n",
            "[nltk_data]    | Downloading package cmudict to /root/nltk_data...\n",
            "[nltk_data]    |   Unzipping corpora/cmudict.zip.\n",
            "[nltk_data]    | Downloading package comparative_sentences to\n",
            "[nltk_data]    |     /root/nltk_data...\n",
            "[nltk_data]    |   Unzipping corpora/comparative_sentences.zip.\n",
            "[nltk_data]    | Downloading package comtrans to /root/nltk_data...\n",
            "[nltk_data]    | Downloading package conll2000 to /root/nltk_data...\n",
            "[nltk_data]    |   Unzipping corpora/conll2000.zip.\n",
            "[nltk_data]    | Downloading package conll2002 to /root/nltk_data...\n",
            "[nltk_data]    |   Unzipping corpora/conll2002.zip.\n",
            "[nltk_data]    | Downloading package conll2007 to /root/nltk_data...\n",
            "[nltk_data]    | Downloading package crubadan to /root/nltk_data...\n",
            "[nltk_data]    |   Unzipping corpora/crubadan.zip.\n",
            "[nltk_data]    | Downloading package dependency_treebank to\n",
            "[nltk_data]    |     /root/nltk_data...\n",
            "[nltk_data]    |   Unzipping corpora/dependency_treebank.zip.\n",
            "[nltk_data]    | Downloading package dolch to /root/nltk_data...\n",
            "[nltk_data]    |   Unzipping corpora/dolch.zip.\n",
            "[nltk_data]    | Downloading package europarl_raw to\n",
            "[nltk_data]    |     /root/nltk_data...\n",
            "[nltk_data]    |   Unzipping corpora/europarl_raw.zip.\n",
            "[nltk_data]    | Downloading package extended_omw to\n",
            "[nltk_data]    |     /root/nltk_data...\n",
            "[nltk_data]    | Downloading package floresta to /root/nltk_data...\n",
            "[nltk_data]    |   Unzipping corpora/floresta.zip.\n",
            "[nltk_data]    | Downloading package framenet_v15 to\n",
            "[nltk_data]    |     /root/nltk_data...\n",
            "[nltk_data]    |   Unzipping corpora/framenet_v15.zip.\n",
            "[nltk_data]    | Downloading package framenet_v17 to\n",
            "[nltk_data]    |     /root/nltk_data...\n",
            "[nltk_data]    |   Unzipping corpora/framenet_v17.zip.\n",
            "[nltk_data]    | Downloading package gazetteers to /root/nltk_data...\n",
            "[nltk_data]    |   Unzipping corpora/gazetteers.zip.\n",
            "[nltk_data]    | Downloading package genesis to /root/nltk_data...\n",
            "[nltk_data]    |   Unzipping corpora/genesis.zip.\n",
            "[nltk_data]    | Downloading package gutenberg to /root/nltk_data...\n",
            "[nltk_data]    |   Unzipping corpora/gutenberg.zip.\n",
            "[nltk_data]    | Downloading package ieer to /root/nltk_data...\n",
            "[nltk_data]    |   Unzipping corpora/ieer.zip.\n",
            "[nltk_data]    | Downloading package inaugural to /root/nltk_data...\n",
            "[nltk_data]    |   Unzipping corpora/inaugural.zip.\n",
            "[nltk_data]    | Downloading package indian to /root/nltk_data...\n",
            "[nltk_data]    |   Unzipping corpora/indian.zip.\n",
            "[nltk_data]    | Downloading package jeita to /root/nltk_data...\n",
            "[nltk_data]    | Downloading package kimmo to /root/nltk_data...\n",
            "[nltk_data]    |   Unzipping corpora/kimmo.zip.\n",
            "[nltk_data]    | Downloading package knbc to /root/nltk_data...\n",
            "[nltk_data]    | Downloading package large_grammars to\n",
            "[nltk_data]    |     /root/nltk_data...\n",
            "[nltk_data]    |   Unzipping grammars/large_grammars.zip.\n",
            "[nltk_data]    | Downloading package lin_thesaurus to\n",
            "[nltk_data]    |     /root/nltk_data...\n",
            "[nltk_data]    |   Unzipping corpora/lin_thesaurus.zip.\n",
            "[nltk_data]    | Downloading package mac_morpho to /root/nltk_data...\n",
            "[nltk_data]    |   Unzipping corpora/mac_morpho.zip.\n",
            "[nltk_data]    | Downloading package machado to /root/nltk_data...\n",
            "[nltk_data]    | Downloading package masc_tagged to /root/nltk_data...\n",
            "[nltk_data]    | Downloading package maxent_ne_chunker to\n",
            "[nltk_data]    |     /root/nltk_data...\n",
            "[nltk_data]    |   Unzipping chunkers/maxent_ne_chunker.zip.\n",
            "[nltk_data]    | Downloading package maxent_treebank_pos_tagger to\n",
            "[nltk_data]    |     /root/nltk_data...\n",
            "[nltk_data]    |   Unzipping taggers/maxent_treebank_pos_tagger.zip.\n",
            "[nltk_data]    | Downloading package moses_sample to\n",
            "[nltk_data]    |     /root/nltk_data...\n",
            "[nltk_data]    |   Unzipping models/moses_sample.zip.\n",
            "[nltk_data]    | Downloading package movie_reviews to\n",
            "[nltk_data]    |     /root/nltk_data...\n",
            "[nltk_data]    |   Unzipping corpora/movie_reviews.zip.\n",
            "[nltk_data]    | Downloading package mte_teip5 to /root/nltk_data...\n",
            "[nltk_data]    |   Unzipping corpora/mte_teip5.zip.\n",
            "[nltk_data]    | Downloading package mwa_ppdb to /root/nltk_data...\n",
            "[nltk_data]    |   Unzipping misc/mwa_ppdb.zip.\n",
            "[nltk_data]    | Downloading package names to /root/nltk_data...\n",
            "[nltk_data]    |   Unzipping corpora/names.zip.\n",
            "[nltk_data]    | Downloading package nombank.1.0 to /root/nltk_data...\n",
            "[nltk_data]    | Downloading package nonbreaking_prefixes to\n",
            "[nltk_data]    |     /root/nltk_data...\n",
            "[nltk_data]    |   Unzipping corpora/nonbreaking_prefixes.zip.\n",
            "[nltk_data]    | Downloading package nps_chat to /root/nltk_data...\n",
            "[nltk_data]    |   Unzipping corpora/nps_chat.zip.\n",
            "[nltk_data]    | Downloading package omw to /root/nltk_data...\n",
            "[nltk_data]    | Downloading package omw-1.4 to /root/nltk_data...\n",
            "[nltk_data]    | Downloading package opinion_lexicon to\n",
            "[nltk_data]    |     /root/nltk_data...\n",
            "[nltk_data]    |   Unzipping corpora/opinion_lexicon.zip.\n",
            "[nltk_data]    | Downloading package panlex_swadesh to\n",
            "[nltk_data]    |     /root/nltk_data...\n",
            "[nltk_data]    | Downloading package paradigms to /root/nltk_data...\n",
            "[nltk_data]    |   Unzipping corpora/paradigms.zip.\n",
            "[nltk_data]    | Downloading package pe08 to /root/nltk_data...\n",
            "[nltk_data]    |   Unzipping corpora/pe08.zip.\n",
            "[nltk_data]    | Downloading package perluniprops to\n",
            "[nltk_data]    |     /root/nltk_data...\n",
            "[nltk_data]    |   Unzipping misc/perluniprops.zip.\n",
            "[nltk_data]    | Downloading package pil to /root/nltk_data...\n",
            "[nltk_data]    |   Unzipping corpora/pil.zip.\n",
            "[nltk_data]    | Downloading package pl196x to /root/nltk_data...\n",
            "[nltk_data]    |   Unzipping corpora/pl196x.zip.\n",
            "[nltk_data]    | Downloading package porter_test to /root/nltk_data...\n",
            "[nltk_data]    |   Unzipping stemmers/porter_test.zip.\n",
            "[nltk_data]    | Downloading package ppattach to /root/nltk_data...\n",
            "[nltk_data]    |   Unzipping corpora/ppattach.zip.\n",
            "[nltk_data]    | Downloading package problem_reports to\n",
            "[nltk_data]    |     /root/nltk_data...\n",
            "[nltk_data]    |   Unzipping corpora/problem_reports.zip.\n",
            "[nltk_data]    | Downloading package product_reviews_1 to\n",
            "[nltk_data]    |     /root/nltk_data...\n",
            "[nltk_data]    |   Unzipping corpora/product_reviews_1.zip.\n",
            "[nltk_data]    | Downloading package product_reviews_2 to\n",
            "[nltk_data]    |     /root/nltk_data...\n",
            "[nltk_data]    |   Unzipping corpora/product_reviews_2.zip.\n",
            "[nltk_data]    | Downloading package propbank to /root/nltk_data...\n",
            "[nltk_data]    | Downloading package pros_cons to /root/nltk_data...\n",
            "[nltk_data]    |   Unzipping corpora/pros_cons.zip.\n",
            "[nltk_data]    | Downloading package ptb to /root/nltk_data...\n",
            "[nltk_data]    |   Unzipping corpora/ptb.zip.\n",
            "[nltk_data]    | Downloading package punkt to /root/nltk_data...\n",
            "[nltk_data]    |   Package punkt is already up-to-date!\n",
            "[nltk_data]    | Downloading package qc to /root/nltk_data...\n",
            "[nltk_data]    |   Unzipping corpora/qc.zip.\n",
            "[nltk_data]    | Downloading package reuters to /root/nltk_data...\n",
            "[nltk_data]    | Downloading package rslp to /root/nltk_data...\n",
            "[nltk_data]    |   Unzipping stemmers/rslp.zip.\n",
            "[nltk_data]    | Downloading package rte to /root/nltk_data...\n",
            "[nltk_data]    |   Unzipping corpora/rte.zip.\n",
            "[nltk_data]    | Downloading package sample_grammars to\n",
            "[nltk_data]    |     /root/nltk_data...\n",
            "[nltk_data]    |   Unzipping grammars/sample_grammars.zip.\n",
            "[nltk_data]    | Downloading package semcor to /root/nltk_data...\n",
            "[nltk_data]    | Downloading package senseval to /root/nltk_data...\n",
            "[nltk_data]    |   Unzipping corpora/senseval.zip.\n",
            "[nltk_data]    | Downloading package sentence_polarity to\n",
            "[nltk_data]    |     /root/nltk_data...\n",
            "[nltk_data]    |   Unzipping corpora/sentence_polarity.zip.\n",
            "[nltk_data]    | Downloading package sentiwordnet to\n",
            "[nltk_data]    |     /root/nltk_data...\n",
            "[nltk_data]    |   Unzipping corpora/sentiwordnet.zip.\n",
            "[nltk_data]    | Downloading package shakespeare to /root/nltk_data...\n",
            "[nltk_data]    |   Unzipping corpora/shakespeare.zip.\n",
            "[nltk_data]    | Downloading package sinica_treebank to\n",
            "[nltk_data]    |     /root/nltk_data...\n",
            "[nltk_data]    |   Unzipping corpora/sinica_treebank.zip.\n",
            "[nltk_data]    | Downloading package smultron to /root/nltk_data...\n",
            "[nltk_data]    |   Unzipping corpora/smultron.zip.\n",
            "[nltk_data]    | Downloading package snowball_data to\n",
            "[nltk_data]    |     /root/nltk_data...\n",
            "[nltk_data]    | Downloading package spanish_grammars to\n",
            "[nltk_data]    |     /root/nltk_data...\n",
            "[nltk_data]    |   Unzipping grammars/spanish_grammars.zip.\n",
            "[nltk_data]    | Downloading package state_union to /root/nltk_data...\n",
            "[nltk_data]    |   Unzipping corpora/state_union.zip.\n",
            "[nltk_data]    | Downloading package stopwords to /root/nltk_data...\n",
            "[nltk_data]    |   Unzipping corpora/stopwords.zip.\n",
            "[nltk_data]    | Downloading package subjectivity to\n",
            "[nltk_data]    |     /root/nltk_data...\n",
            "[nltk_data]    |   Unzipping corpora/subjectivity.zip.\n",
            "[nltk_data]    | Downloading package swadesh to /root/nltk_data...\n",
            "[nltk_data]    |   Unzipping corpora/swadesh.zip.\n",
            "[nltk_data]    | Downloading package switchboard to /root/nltk_data...\n",
            "[nltk_data]    |   Unzipping corpora/switchboard.zip.\n",
            "[nltk_data]    | Downloading package tagsets to /root/nltk_data...\n",
            "[nltk_data]    |   Unzipping help/tagsets.zip.\n",
            "[nltk_data]    | Downloading package timit to /root/nltk_data...\n",
            "[nltk_data]    |   Unzipping corpora/timit.zip.\n",
            "[nltk_data]    | Downloading package toolbox to /root/nltk_data...\n",
            "[nltk_data]    |   Unzipping corpora/toolbox.zip.\n",
            "[nltk_data]    | Downloading package treebank to /root/nltk_data...\n",
            "[nltk_data]    |   Unzipping corpora/treebank.zip.\n",
            "[nltk_data]    | Downloading package twitter_samples to\n",
            "[nltk_data]    |     /root/nltk_data...\n",
            "[nltk_data]    |   Unzipping corpora/twitter_samples.zip.\n",
            "[nltk_data]    | Downloading package udhr to /root/nltk_data...\n",
            "[nltk_data]    |   Unzipping corpora/udhr.zip.\n",
            "[nltk_data]    | Downloading package udhr2 to /root/nltk_data...\n",
            "[nltk_data]    |   Unzipping corpora/udhr2.zip.\n",
            "[nltk_data]    | Downloading package unicode_samples to\n",
            "[nltk_data]    |     /root/nltk_data...\n",
            "[nltk_data]    |   Unzipping corpora/unicode_samples.zip.\n",
            "[nltk_data]    | Downloading package universal_tagset to\n",
            "[nltk_data]    |     /root/nltk_data...\n",
            "[nltk_data]    |   Unzipping taggers/universal_tagset.zip.\n",
            "[nltk_data]    | Downloading package universal_treebanks_v20 to\n",
            "[nltk_data]    |     /root/nltk_data...\n",
            "[nltk_data]    | Downloading package vader_lexicon to\n",
            "[nltk_data]    |     /root/nltk_data...\n",
            "[nltk_data]    | Downloading package verbnet to /root/nltk_data...\n",
            "[nltk_data]    |   Unzipping corpora/verbnet.zip.\n",
            "[nltk_data]    | Downloading package verbnet3 to /root/nltk_data...\n",
            "[nltk_data]    |   Unzipping corpora/verbnet3.zip.\n",
            "[nltk_data]    | Downloading package webtext to /root/nltk_data...\n",
            "[nltk_data]    |   Unzipping corpora/webtext.zip.\n",
            "[nltk_data]    | Downloading package wmt15_eval to /root/nltk_data...\n",
            "[nltk_data]    |   Unzipping models/wmt15_eval.zip.\n",
            "[nltk_data]    | Downloading package word2vec_sample to\n",
            "[nltk_data]    |     /root/nltk_data...\n",
            "[nltk_data]    |   Unzipping models/word2vec_sample.zip.\n",
            "[nltk_data]    | Downloading package wordnet to /root/nltk_data...\n",
            "[nltk_data]    | Downloading package wordnet2021 to /root/nltk_data...\n",
            "[nltk_data]    | Downloading package wordnet2022 to /root/nltk_data...\n",
            "[nltk_data]    |   Unzipping corpora/wordnet2022.zip.\n",
            "[nltk_data]    | Downloading package wordnet31 to /root/nltk_data...\n",
            "[nltk_data]    | Downloading package wordnet_ic to /root/nltk_data...\n",
            "[nltk_data]    |   Unzipping corpora/wordnet_ic.zip.\n",
            "[nltk_data]    | Downloading package words to /root/nltk_data...\n",
            "[nltk_data]    |   Unzipping corpora/words.zip.\n",
            "[nltk_data]    | Downloading package ycoe to /root/nltk_data...\n",
            "[nltk_data]    |   Unzipping corpora/ycoe.zip.\n",
            "[nltk_data]    | \n",
            "[nltk_data]  Done downloading collection all\n"
          ]
        },
        {
          "output_type": "execute_result",
          "data": {
            "text/plain": [
              "True"
            ]
          },
          "metadata": {},
          "execution_count": 20
        }
      ]
    },
    {
      "cell_type": "code",
      "source": [
        "# Tokenization\n",
        "\n",
        "text=\"This is an example sentence. It has multiple words\""
      ],
      "metadata": {
        "id": "mijvwoNud4Ut"
      },
      "execution_count": 21,
      "outputs": []
    },
    {
      "cell_type": "code",
      "source": [
        "from nltk.tokenize import word_tokenize , sent_tokenize"
      ],
      "metadata": {
        "id": "-pgHJKplgG8w"
      },
      "execution_count": 22,
      "outputs": []
    },
    {
      "cell_type": "code",
      "source": [
        "# Word Tokenization\n",
        "\n",
        "tokens=word_tokenize(text)"
      ],
      "metadata": {
        "id": "o6Pj9iwRf-he"
      },
      "execution_count": 23,
      "outputs": []
    },
    {
      "cell_type": "code",
      "source": [
        "tokens"
      ],
      "metadata": {
        "id": "G2L1xq3ugRQt",
        "outputId": "6534d20a-5258-4445-a264-820b0a63867d",
        "colab": {
          "base_uri": "https://localhost:8080/"
        }
      },
      "execution_count": 24,
      "outputs": [
        {
          "output_type": "execute_result",
          "data": {
            "text/plain": [
              "['This',\n",
              " 'is',\n",
              " 'an',\n",
              " 'example',\n",
              " 'sentence',\n",
              " '.',\n",
              " 'It',\n",
              " 'has',\n",
              " 'multiple',\n",
              " 'words']"
            ]
          },
          "metadata": {},
          "execution_count": 24
        }
      ]
    },
    {
      "cell_type": "code",
      "source": [
        "# Sentence Tokenization\n",
        "\n",
        "sentences=sent_tokenize(text)"
      ],
      "metadata": {
        "id": "o3yR4EhpgSVt"
      },
      "execution_count": 25,
      "outputs": []
    },
    {
      "cell_type": "code",
      "source": [
        "sentences"
      ],
      "metadata": {
        "id": "lN0gEF8Cgesf",
        "outputId": "19d132cf-ee83-44cd-eba6-aa51a775d3a3",
        "colab": {
          "base_uri": "https://localhost:8080/"
        }
      },
      "execution_count": 26,
      "outputs": [
        {
          "output_type": "execute_result",
          "data": {
            "text/plain": [
              "['This is an example sentence.', 'It has multiple words']"
            ]
          },
          "metadata": {},
          "execution_count": 26
        }
      ]
    },
    {
      "cell_type": "code",
      "source": [
        "for sentence in sentences:\n",
        "  print(sentence)"
      ],
      "metadata": {
        "id": "2dJAXs7iggke",
        "outputId": "fce35e8b-5a33-4d5d-c131-ba9b4a0d7fb9",
        "colab": {
          "base_uri": "https://localhost:8080/"
        }
      },
      "execution_count": 27,
      "outputs": [
        {
          "output_type": "stream",
          "name": "stdout",
          "text": [
            "This is an example sentence.\n",
            "It has multiple words\n"
          ]
        }
      ]
    },
    {
      "cell_type": "code",
      "source": [
        "# POs Tagging\n",
        "\n",
        "text=' The quick brown fox jumps over the lazy dog.'"
      ],
      "metadata": {
        "id": "u5NZhLIuglWC"
      },
      "execution_count": 28,
      "outputs": []
    },
    {
      "cell_type": "code",
      "source": [
        "# Tokenization\n",
        "tokens=word_tokenize(text)\n",
        "\n",
        "# PoS Tagging\n",
        "pos_tags=nltk.pos_tag(tokens)\n",
        "print('POS Tags',pos_tags)"
      ],
      "metadata": {
        "id": "9eOiaKbAhvKf",
        "outputId": "1ec00336-36bf-4dee-b52e-91968cd73ca3",
        "colab": {
          "base_uri": "https://localhost:8080/"
        }
      },
      "execution_count": 32,
      "outputs": [
        {
          "output_type": "stream",
          "name": "stdout",
          "text": [
            "POS Tags [('The', 'DT'), ('quick', 'JJ'), ('brown', 'NN'), ('fox', 'NN'), ('jumps', 'VBZ'), ('over', 'IN'), ('the', 'DT'), ('lazy', 'JJ'), ('dog', 'NN'), ('.', '.')]\n"
          ]
        }
      ]
    },
    {
      "cell_type": "code",
      "source": [
        "for pos_tag in pos_tags:\n",
        "  print(pos_tag)"
      ],
      "metadata": {
        "id": "JPjV8xBLiJo6",
        "outputId": "eeaec701-feca-4fb7-ae6f-3d2d083a187d",
        "colab": {
          "base_uri": "https://localhost:8080/"
        }
      },
      "execution_count": 35,
      "outputs": [
        {
          "output_type": "stream",
          "name": "stdout",
          "text": [
            "('The', 'DT')\n",
            "('quick', 'JJ')\n",
            "('brown', 'NN')\n",
            "('fox', 'NN')\n",
            "('jumps', 'VBZ')\n",
            "('over', 'IN')\n",
            "('the', 'DT')\n",
            "('lazy', 'JJ')\n",
            "('dog', 'NN')\n",
            "('.', '.')\n"
          ]
        }
      ]
    },
    {
      "cell_type": "code",
      "source": [
        "# Stopword Removal\n",
        "\n",
        "\n",
        "from nltk.corpus import stopwords"
      ],
      "metadata": {
        "id": "uW4xvdHPichm"
      },
      "execution_count": 37,
      "outputs": []
    },
    {
      "cell_type": "code",
      "source": [
        "text='Artificial intelligence (AI) is rapidly transforming many aspects of our lives. From facial recognition software to recommendation algorithms, AI is having a profound impact on society. However, ethical considerations surrounding AI development and deployment need careful attention.'"
      ],
      "metadata": {
        "id": "gkfMLNJEjQRJ"
      },
      "execution_count": 65,
      "outputs": []
    },
    {
      "cell_type": "code",
      "source": [
        "# Tokenization\n",
        "tokens = nltk.word_tokenize(text)\n",
        "\n",
        "# Stop Word List (customizable)\n",
        "stop_words = set(stopwords.words('english'))  # Get English stop words\n",
        "\n",
        "# Remove stop words (Option 1: Complete Removal)\n",
        "filtered_tokens = [token for token in tokens if token not in stop_words]\n",
        "print(\"Original Sentence:\", text)\n",
        "print(\"Stop Words Removed (Option 1):\", filtered_tokens)\n"
      ],
      "metadata": {
        "id": "COctnJUNk-PE",
        "outputId": "f5514ba7-fbe2-4e16-eb21-af7bbeb176ed",
        "colab": {
          "base_uri": "https://localhost:8080/"
        }
      },
      "execution_count": 66,
      "outputs": [
        {
          "output_type": "stream",
          "name": "stdout",
          "text": [
            "Original Sentence: Artificial intelligence (AI) is rapidly transforming many aspects of our lives. From facial recognition software to recommendation algorithms, AI is having a profound impact on society. However, ethical considerations surrounding AI development and deployment need careful attention.\n",
            "Stop Words Removed (Option 1): ['Artificial', 'intelligence', '(', 'AI', ')', 'rapidly', 'transforming', 'many', 'aspects', 'lives', '.', 'From', 'facial', 'recognition', 'software', 'recommendation', 'algorithms', ',', 'AI', 'profound', 'impact', 'society', '.', 'However', ',', 'ethical', 'considerations', 'surrounding', 'AI', 'development', 'deployment', 'need', 'careful', 'attention', '.']\n"
          ]
        }
      ]
    },
    {
      "cell_type": "code",
      "source": [
        "# Text normalization\n",
        "\n",
        "text=\"I Visited the US from the UK on 22-10-18\"\n",
        "\n",
        "normalized_text=text.lower()\n",
        "normalized_text"
      ],
      "metadata": {
        "id": "w8GRGZDCnF6L",
        "outputId": "10800dca-9bb6-411b-926f-d8fa57c3cc45",
        "colab": {
          "base_uri": "https://localhost:8080/",
          "height": 36
        }
      },
      "execution_count": 68,
      "outputs": [
        {
          "output_type": "execute_result",
          "data": {
            "text/plain": [
              "'i visited the us from the uk on 22-10-18'"
            ],
            "application/vnd.google.colaboratory.intrinsic+json": {
              "type": "string"
            }
          },
          "metadata": {},
          "execution_count": 68
        }
      ]
    },
    {
      "cell_type": "code",
      "source": [
        "# Replacing\n",
        "normalized_text=text.replace('UK','United Kingdom')\n",
        "normalized_text"
      ],
      "metadata": {
        "id": "ZF1U_ZshnnUz",
        "outputId": "c56f1f73-03c2-459b-af9a-306adac7be25",
        "colab": {
          "base_uri": "https://localhost:8080/",
          "height": 36
        }
      },
      "execution_count": 69,
      "outputs": [
        {
          "output_type": "execute_result",
          "data": {
            "text/plain": [
              "'I Visited the US from the United Kingdom on 22-10-18'"
            ],
            "application/vnd.google.colaboratory.intrinsic+json": {
              "type": "string"
            }
          },
          "metadata": {},
          "execution_count": 69
        }
      ]
    },
    {
      "cell_type": "code",
      "source": [
        "# Upper Case\n",
        "normalized_text=text.upper()\n",
        "normalized_text"
      ],
      "metadata": {
        "id": "Iy8KeelIpeS7",
        "outputId": "d0f3f818-5e0d-442d-8be4-40dd42d80cc6",
        "colab": {
          "base_uri": "https://localhost:8080/",
          "height": 36
        }
      },
      "execution_count": 70,
      "outputs": [
        {
          "output_type": "execute_result",
          "data": {
            "text/plain": [
              "'I VISITED THE US FROM THE UK ON 22-10-18'"
            ],
            "application/vnd.google.colaboratory.intrinsic+json": {
              "type": "string"
            }
          },
          "metadata": {},
          "execution_count": 70
        }
      ]
    },
    {
      "cell_type": "code",
      "source": [
        "# Spelling Correction\n",
        "\n",
        "import textblob"
      ],
      "metadata": {
        "id": "NCVlIJrCpugB"
      },
      "execution_count": 71,
      "outputs": []
    },
    {
      "cell_type": "code",
      "source": [
        "from textblob import TextBlob"
      ],
      "metadata": {
        "id": "ViaZL-8Tqvbf"
      },
      "execution_count": 72,
      "outputs": []
    },
    {
      "cell_type": "code",
      "source": [
        "# Text with misspelling\n",
        "text='Ths sentance has a misspelling.'"
      ],
      "metadata": {
        "id": "gG1L39AdrtHX"
      },
      "execution_count": 83,
      "outputs": []
    },
    {
      "cell_type": "code",
      "source": [
        "# Correct the spelling using TextBlob's spellcheck method\n",
        "corrected_text=TextBlob(text).correct()\n",
        "\n",
        "# Print the original and corrected text\n",
        "print(\"Original Text:\", text)\n",
        "print(\"Corrected Text:\", corrected_text)\n"
      ],
      "metadata": {
        "id": "o4MLiiyQq0dt",
        "outputId": "4aa720a5-1cdd-46a9-bf4f-155029bdcad2",
        "colab": {
          "base_uri": "https://localhost:8080/"
        }
      },
      "execution_count": 84,
      "outputs": [
        {
          "output_type": "stream",
          "name": "stdout",
          "text": [
            "Original Text: Ths sentance has a misspelling.\n",
            "Corrected Text: The sentence has a misspelling.\n"
          ]
        }
      ]
    },
    {
      "cell_type": "code",
      "source": [
        "# Stemming\n",
        "# Porter Stemmer\n",
        "\n",
        "from nltk.stem import PorterStemmer"
      ],
      "metadata": {
        "id": "MYXXVa4CrSI_"
      },
      "execution_count": 85,
      "outputs": []
    },
    {
      "cell_type": "code",
      "source": [
        "words=['eating','eats','eaten','writing','writes','programming','programs','history']"
      ],
      "metadata": {
        "id": "oMoqEBZAs0IC"
      },
      "execution_count": 119,
      "outputs": []
    },
    {
      "cell_type": "code",
      "source": [
        "stemmer=PorterStemmer()"
      ],
      "metadata": {
        "id": "sBsIb2vktNaR"
      },
      "execution_count": 120,
      "outputs": []
    },
    {
      "cell_type": "code",
      "source": [
        "for word in words:\n",
        "  print(word,\"-->\",stemmer.stem(word))"
      ],
      "metadata": {
        "id": "fNJgTtJ2tVh_",
        "outputId": "9ad56217-822d-4b42-d446-8233f794f502",
        "colab": {
          "base_uri": "https://localhost:8080/"
        }
      },
      "execution_count": 121,
      "outputs": [
        {
          "output_type": "stream",
          "name": "stdout",
          "text": [
            "eating --> eat\n",
            "eats --> eat\n",
            "eaten --> eaten\n",
            "writing --> write\n",
            "writes --> write\n",
            "programming --> program\n",
            "programs --> program\n",
            "history --> histori\n"
          ]
        }
      ]
    },
    {
      "cell_type": "code",
      "source": [
        "# Snowball Stemmer\n",
        "\n",
        "from nltk.stem import SnowballStemmer"
      ],
      "metadata": {
        "id": "VNweG6IAtlcD"
      },
      "execution_count": 122,
      "outputs": []
    },
    {
      "cell_type": "code",
      "source": [
        "snow_stem=SnowballStemmer('english')"
      ],
      "metadata": {
        "id": "IKm1LcYUuyl8"
      },
      "execution_count": 123,
      "outputs": []
    },
    {
      "cell_type": "code",
      "source": [
        "for word in words:\n",
        "  print(word,\"-->\",snow_stem.stem(word))"
      ],
      "metadata": {
        "id": "Mxz_s5Vku2Zy",
        "outputId": "ea3b44d2-8c9a-4659-8057-9e39eb8cc334",
        "colab": {
          "base_uri": "https://localhost:8080/"
        }
      },
      "execution_count": 124,
      "outputs": [
        {
          "output_type": "stream",
          "name": "stdout",
          "text": [
            "eating --> eat\n",
            "eats --> eat\n",
            "eaten --> eaten\n",
            "writing --> write\n",
            "writes --> write\n",
            "programming --> program\n",
            "programs --> program\n",
            "history --> histori\n"
          ]
        }
      ]
    },
    {
      "cell_type": "code",
      "source": [
        "# Lemmatization\n",
        "\n",
        "from nltk.stem import WordNetLemmatizer"
      ],
      "metadata": {
        "id": "Is1e5bFUu-fe"
      },
      "execution_count": 125,
      "outputs": []
    },
    {
      "cell_type": "code",
      "source": [
        "lemmatizer=WordNetLemmatizer()"
      ],
      "metadata": {
        "id": "KbHyBGGkviOY"
      },
      "execution_count": 126,
      "outputs": []
    },
    {
      "cell_type": "code",
      "source": [
        "for word in words:\n",
        "  print(word,'-->',lemmatizer.lemmatize(word))"
      ],
      "metadata": {
        "id": "z_d6wtnivpHR",
        "outputId": "dd3becef-a3fc-4c3e-8232-02ad28547cd1",
        "colab": {
          "base_uri": "https://localhost:8080/"
        }
      },
      "execution_count": 127,
      "outputs": [
        {
          "output_type": "stream",
          "name": "stdout",
          "text": [
            "eating --> eating\n",
            "eats --> eats\n",
            "eaten --> eaten\n",
            "writing --> writing\n",
            "writes --> writes\n",
            "programming --> programming\n",
            "programs --> program\n",
            "history --> history\n"
          ]
        }
      ]
    },
    {
      "cell_type": "code",
      "source": [
        "# stopwords Removal with Lemmatizatiom\n",
        "\n",
        "corpus=\"\"\"The Natural Language Toolkit (NLTK) is a powerful library for natural language processing (NLP) tasks in Python.\n",
        "It provides tools for tokenization, stopword removal, stemming, lemmatization, part-of-speech tagging, and more.\n",
        " In Google Colab, you can easily install NLTK and download necessary resources to unlock its potential for your NLP projects.\"\"\"\n"
      ],
      "metadata": {
        "id": "cbSNYSPBvzIj"
      },
      "execution_count": 128,
      "outputs": []
    },
    {
      "cell_type": "code",
      "source": [
        "data=nltk.sent_tokenize(corpus)"
      ],
      "metadata": {
        "id": "ul6911bN3UEx"
      },
      "execution_count": 130,
      "outputs": []
    },
    {
      "cell_type": "code",
      "source": [
        "data"
      ],
      "metadata": {
        "id": "kg1Jx6Xn3kFa",
        "outputId": "1c898fbf-df21-4c59-9ab5-0529d357de3d",
        "colab": {
          "base_uri": "https://localhost:8080/"
        }
      },
      "execution_count": 131,
      "outputs": [
        {
          "output_type": "execute_result",
          "data": {
            "text/plain": [
              "['The Natural Language Toolkit (NLTK) is a powerful library for natural language processing (NLP) tasks in Python.',\n",
              " 'It provides tools for tokenization, stopword removal, stemming, lemmatization, part-of-speech tagging, and more.',\n",
              " 'In Google Colab, you can easily install NLTK and download necessary resources to unlock its potential for your NLP projects.']"
            ]
          },
          "metadata": {},
          "execution_count": 131
        }
      ]
    },
    {
      "cell_type": "code",
      "source": [
        "for i in range (len(data)):\n",
        "  words=nltk.word_tokenize(data[i])\n",
        "  words=[lemmatizer.lemmatize(word) for word in words if word not in set (stopwords.words('english'))]\n",
        "  data[i]=' '.join(words)"
      ],
      "metadata": {
        "id": "tv3b0CdX3czN"
      },
      "execution_count": 134,
      "outputs": []
    },
    {
      "cell_type": "code",
      "source": [
        "data"
      ],
      "metadata": {
        "id": "u07Ycj9m3lv2",
        "outputId": "8a4a9f76-c43e-4377-d509-2d92df8a41bc",
        "colab": {
          "base_uri": "https://localhost:8080/"
        }
      },
      "execution_count": 135,
      "outputs": [
        {
          "output_type": "execute_result",
          "data": {
            "text/plain": [
              "['natur languag toolkit ( nltk ) power librari natur languag process ( nlp ) task python .',\n",
              " 'provid tool token , stopword remov , stem , lemmat , part-of-speech tag , .',\n",
              " 'googl colab , easili instal nltk download necessari resourc unlock potenti nlp project .']"
            ]
          },
          "metadata": {},
          "execution_count": 135
        }
      ]
    },
    {
      "cell_type": "code",
      "source": [
        "# Named Entity Recognition\n",
        "import spacy\n",
        "\n",
        "nlp=spacy.load(\"en_core_web_sm\")\n"
      ],
      "metadata": {
        "id": "EWP_72283m1B"
      },
      "execution_count": 138,
      "outputs": []
    },
    {
      "cell_type": "code",
      "source": [
        "nlp.pipe_names"
      ],
      "metadata": {
        "id": "Nwtvr7xF5ruA",
        "outputId": "8259a944-085f-430d-bcb0-a9c5ef3ca8e5",
        "colab": {
          "base_uri": "https://localhost:8080/"
        }
      },
      "execution_count": 139,
      "outputs": [
        {
          "output_type": "execute_result",
          "data": {
            "text/plain": [
              "['tok2vec', 'tagger', 'parser', 'attribute_ruler', 'lemmatizer', 'ner']"
            ]
          },
          "metadata": {},
          "execution_count": 139
        }
      ]
    },
    {
      "cell_type": "code",
      "source": [
        "doc=nlp(\"Tesla Inc is going to acquire Twitter Inc for $45 bilion\")\n",
        "\n",
        "for ent in doc.ents:\n",
        "  print(ent.text,\"|\",ent.label_,\"|\",spacy.explain(ent.label_))"
      ],
      "metadata": {
        "id": "0N2E6UZ57ZOR",
        "outputId": "30f7927f-bc89-4d32-a965-57101f0d6ac1",
        "colab": {
          "base_uri": "https://localhost:8080/"
        }
      },
      "execution_count": 149,
      "outputs": [
        {
          "output_type": "stream",
          "name": "stdout",
          "text": [
            "Tesla Inc | ORG | Companies, agencies, institutions, etc.\n",
            "Twitter Inc | ORG | Companies, agencies, institutions, etc.\n",
            "45 | MONEY | Monetary values, including unit\n"
          ]
        }
      ]
    },
    {
      "cell_type": "code",
      "source": [
        "from spacy import displacy\n",
        "displacy.render(doc,style='ent')"
      ],
      "metadata": {
        "id": "MfvfjnbW74Qe",
        "outputId": "729557c5-b075-46a3-e04a-1b056dd6ef26",
        "colab": {
          "base_uri": "https://localhost:8080/",
          "height": 52
        }
      },
      "execution_count": 150,
      "outputs": [
        {
          "output_type": "display_data",
          "data": {
            "text/plain": [
              "<IPython.core.display.HTML object>"
            ],
            "text/html": [
              "<span class=\"tex2jax_ignore\"><div class=\"entities\" style=\"line-height: 2.5; direction: ltr\">\n",
              "<mark class=\"entity\" style=\"background: #7aecec; padding: 0.45em 0.6em; margin: 0 0.25em; line-height: 1; border-radius: 0.35em;\">\n",
              "    Tesla Inc\n",
              "    <span style=\"font-size: 0.8em; font-weight: bold; line-height: 1; border-radius: 0.35em; vertical-align: middle; margin-left: 0.5rem\">ORG</span>\n",
              "</mark>\n",
              " is going to acquire \n",
              "<mark class=\"entity\" style=\"background: #7aecec; padding: 0.45em 0.6em; margin: 0 0.25em; line-height: 1; border-radius: 0.35em;\">\n",
              "    Twitter Inc\n",
              "    <span style=\"font-size: 0.8em; font-weight: bold; line-height: 1; border-radius: 0.35em; vertical-align: middle; margin-left: 0.5rem\">ORG</span>\n",
              "</mark>\n",
              " for $\n",
              "<mark class=\"entity\" style=\"background: #e4e7d2; padding: 0.45em 0.6em; margin: 0 0.25em; line-height: 1; border-radius: 0.35em;\">\n",
              "    45\n",
              "    <span style=\"font-size: 0.8em; font-weight: bold; line-height: 1; border-radius: 0.35em; vertical-align: middle; margin-left: 0.5rem\">MONEY</span>\n",
              "</mark>\n",
              " bilion</div></span>"
            ]
          },
          "metadata": {}
        }
      ]
    },
    {
      "cell_type": "code",
      "source": [
        "nlp.pipe_labels['ner']"
      ],
      "metadata": {
        "id": "PlNUx1Oq8aLs",
        "outputId": "846735c7-2668-40ff-9a34-489290f0bf90",
        "colab": {
          "base_uri": "https://localhost:8080/"
        }
      },
      "execution_count": 151,
      "outputs": [
        {
          "output_type": "execute_result",
          "data": {
            "text/plain": [
              "['CARDINAL',\n",
              " 'DATE',\n",
              " 'EVENT',\n",
              " 'FAC',\n",
              " 'GPE',\n",
              " 'LANGUAGE',\n",
              " 'LAW',\n",
              " 'LOC',\n",
              " 'MONEY',\n",
              " 'NORP',\n",
              " 'ORDINAL',\n",
              " 'ORG',\n",
              " 'PERCENT',\n",
              " 'PERSON',\n",
              " 'PRODUCT',\n",
              " 'QUANTITY',\n",
              " 'TIME',\n",
              " 'WORK_OF_ART']"
            ]
          },
          "metadata": {},
          "execution_count": 151
        }
      ]
    },
    {
      "cell_type": "code",
      "source": [
        "doc=nlp('Michael Bloomberg founded Bloomberg in 1982')"
      ],
      "metadata": {
        "id": "PN3Rfd8J9R5A"
      },
      "execution_count": 153,
      "outputs": []
    },
    {
      "cell_type": "code",
      "source": [
        "for ent in doc.ents:\n",
        "  print(ent.text,\"|\",ent.label_,\"|\",spacy.explain(ent.label_))"
      ],
      "metadata": {
        "id": "8kJr_9RA9mzT",
        "outputId": "471e5f2a-3200-4a26-965c-117313972398",
        "colab": {
          "base_uri": "https://localhost:8080/"
        }
      },
      "execution_count": 156,
      "outputs": [
        {
          "output_type": "stream",
          "name": "stdout",
          "text": [
            "Michael Bloomberg | PERSON | People, including fictional\n",
            "Bloomberg | PERSON | People, including fictional\n",
            "1982 | DATE | Absolute or relative dates or periods\n"
          ]
        }
      ]
    },
    {
      "cell_type": "code",
      "source": [
        "from spacy import displacy\n",
        "displacy.render(doc,style='ent')"
      ],
      "metadata": {
        "id": "yZVO3oP2911n",
        "outputId": "1f8e1025-6b0b-48ef-a1ce-ae69d654e93e",
        "colab": {
          "base_uri": "https://localhost:8080/",
          "height": 52
        }
      },
      "execution_count": 160,
      "outputs": [
        {
          "output_type": "display_data",
          "data": {
            "text/plain": [
              "<IPython.core.display.HTML object>"
            ],
            "text/html": [
              "<span class=\"tex2jax_ignore\"><div class=\"entities\" style=\"line-height: 2.5; direction: ltr\">\n",
              "<mark class=\"entity\" style=\"background: #aa9cfc; padding: 0.45em 0.6em; margin: 0 0.25em; line-height: 1; border-radius: 0.35em;\">\n",
              "    Michael Bloomberg\n",
              "    <span style=\"font-size: 0.8em; font-weight: bold; line-height: 1; border-radius: 0.35em; vertical-align: middle; margin-left: 0.5rem\">PERSON</span>\n",
              "</mark>\n",
              " founded \n",
              "<mark class=\"entity\" style=\"background: #aa9cfc; padding: 0.45em 0.6em; margin: 0 0.25em; line-height: 1; border-radius: 0.35em;\">\n",
              "    Bloomberg\n",
              "    <span style=\"font-size: 0.8em; font-weight: bold; line-height: 1; border-radius: 0.35em; vertical-align: middle; margin-left: 0.5rem\">PERSON</span>\n",
              "</mark>\n",
              " in \n",
              "<mark class=\"entity\" style=\"background: #bfe1d9; padding: 0.45em 0.6em; margin: 0 0.25em; line-height: 1; border-radius: 0.35em;\">\n",
              "    1982\n",
              "    <span style=\"font-size: 0.8em; font-weight: bold; line-height: 1; border-radius: 0.35em; vertical-align: middle; margin-left: 0.5rem\">DATE</span>\n",
              "</mark>\n",
              "</div></span>"
            ]
          },
          "metadata": {}
        }
      ]
    },
    {
      "cell_type": "code",
      "source": [
        "type(doc[0])"
      ],
      "metadata": {
        "id": "WQKUYUqO-QHg",
        "outputId": "080efe5e-b5eb-4644-fbe9-e787a5720faf",
        "colab": {
          "base_uri": "https://localhost:8080/"
        }
      },
      "execution_count": 161,
      "outputs": [
        {
          "output_type": "execute_result",
          "data": {
            "text/plain": [
              "spacy.tokens.token.Token"
            ]
          },
          "metadata": {},
          "execution_count": 161
        }
      ]
    },
    {
      "cell_type": "code",
      "source": [
        "doc[2:5]"
      ],
      "metadata": {
        "id": "DeTfNVj2-jld",
        "outputId": "a01c9b1a-1209-47a6-ccf1-d83118681da7",
        "colab": {
          "base_uri": "https://localhost:8080/"
        }
      },
      "execution_count": 162,
      "outputs": [
        {
          "output_type": "execute_result",
          "data": {
            "text/plain": [
              "founded Bloomberg in"
            ]
          },
          "metadata": {},
          "execution_count": 162
        }
      ]
    },
    {
      "cell_type": "code",
      "source": [
        "type(doc[2:5])"
      ],
      "metadata": {
        "id": "YyuM1Uke-nOX",
        "outputId": "6d61493d-1a09-48a1-bed7-64f2f58d707b",
        "colab": {
          "base_uri": "https://localhost:8080/"
        }
      },
      "execution_count": 164,
      "outputs": [
        {
          "output_type": "execute_result",
          "data": {
            "text/plain": [
              "spacy.tokens.span.Span"
            ]
          },
          "metadata": {},
          "execution_count": 164
        }
      ]
    },
    {
      "cell_type": "code",
      "source": [
        "# Text Representation\n",
        "\n",
        "import pandas as pd\n",
        "import numpy as np"
      ],
      "metadata": {
        "id": "6wFaT5TvCm-R"
      },
      "execution_count": 166,
      "outputs": []
    },
    {
      "cell_type": "code",
      "source": [
        "df=pd.read_csv(\"/content/spam.csv\")\n",
        "df"
      ],
      "metadata": {
        "id": "vDfjMZYrGvcp",
        "outputId": "b888e480-5207-4945-8311-645324c37a98",
        "colab": {
          "base_uri": "https://localhost:8080/",
          "height": 423
        }
      },
      "execution_count": 167,
      "outputs": [
        {
          "output_type": "execute_result",
          "data": {
            "text/plain": [
              "     Category                                            Message\n",
              "0         ham  Go until jurong point, crazy.. Available only ...\n",
              "1         ham                      Ok lar... Joking wif u oni...\n",
              "2        spam  Free entry in 2 a wkly comp to win FA Cup fina...\n",
              "3         ham  U dun say so early hor... U c already then say...\n",
              "4         ham  Nah I don't think he goes to usf, he lives aro...\n",
              "...       ...                                                ...\n",
              "5567     spam  This is the 2nd time we have tried 2 contact u...\n",
              "5568      ham               Will ü b going to esplanade fr home?\n",
              "5569      ham  Pity, * was in mood for that. So...any other s...\n",
              "5570      ham  The guy did some bitching but I acted like i'd...\n",
              "5571      ham                         Rofl. Its true to its name\n",
              "\n",
              "[5572 rows x 2 columns]"
            ],
            "text/html": [
              "\n",
              "  <div id=\"df-c6198104-aeba-4ec7-8f53-93fa643ce24a\" class=\"colab-df-container\">\n",
              "    <div>\n",
              "<style scoped>\n",
              "    .dataframe tbody tr th:only-of-type {\n",
              "        vertical-align: middle;\n",
              "    }\n",
              "\n",
              "    .dataframe tbody tr th {\n",
              "        vertical-align: top;\n",
              "    }\n",
              "\n",
              "    .dataframe thead th {\n",
              "        text-align: right;\n",
              "    }\n",
              "</style>\n",
              "<table border=\"1\" class=\"dataframe\">\n",
              "  <thead>\n",
              "    <tr style=\"text-align: right;\">\n",
              "      <th></th>\n",
              "      <th>Category</th>\n",
              "      <th>Message</th>\n",
              "    </tr>\n",
              "  </thead>\n",
              "  <tbody>\n",
              "    <tr>\n",
              "      <th>0</th>\n",
              "      <td>ham</td>\n",
              "      <td>Go until jurong point, crazy.. Available only ...</td>\n",
              "    </tr>\n",
              "    <tr>\n",
              "      <th>1</th>\n",
              "      <td>ham</td>\n",
              "      <td>Ok lar... Joking wif u oni...</td>\n",
              "    </tr>\n",
              "    <tr>\n",
              "      <th>2</th>\n",
              "      <td>spam</td>\n",
              "      <td>Free entry in 2 a wkly comp to win FA Cup fina...</td>\n",
              "    </tr>\n",
              "    <tr>\n",
              "      <th>3</th>\n",
              "      <td>ham</td>\n",
              "      <td>U dun say so early hor... U c already then say...</td>\n",
              "    </tr>\n",
              "    <tr>\n",
              "      <th>4</th>\n",
              "      <td>ham</td>\n",
              "      <td>Nah I don't think he goes to usf, he lives aro...</td>\n",
              "    </tr>\n",
              "    <tr>\n",
              "      <th>...</th>\n",
              "      <td>...</td>\n",
              "      <td>...</td>\n",
              "    </tr>\n",
              "    <tr>\n",
              "      <th>5567</th>\n",
              "      <td>spam</td>\n",
              "      <td>This is the 2nd time we have tried 2 contact u...</td>\n",
              "    </tr>\n",
              "    <tr>\n",
              "      <th>5568</th>\n",
              "      <td>ham</td>\n",
              "      <td>Will ü b going to esplanade fr home?</td>\n",
              "    </tr>\n",
              "    <tr>\n",
              "      <th>5569</th>\n",
              "      <td>ham</td>\n",
              "      <td>Pity, * was in mood for that. So...any other s...</td>\n",
              "    </tr>\n",
              "    <tr>\n",
              "      <th>5570</th>\n",
              "      <td>ham</td>\n",
              "      <td>The guy did some bitching but I acted like i'd...</td>\n",
              "    </tr>\n",
              "    <tr>\n",
              "      <th>5571</th>\n",
              "      <td>ham</td>\n",
              "      <td>Rofl. Its true to its name</td>\n",
              "    </tr>\n",
              "  </tbody>\n",
              "</table>\n",
              "<p>5572 rows × 2 columns</p>\n",
              "</div>\n",
              "    <div class=\"colab-df-buttons\">\n",
              "\n",
              "  <div class=\"colab-df-container\">\n",
              "    <button class=\"colab-df-convert\" onclick=\"convertToInteractive('df-c6198104-aeba-4ec7-8f53-93fa643ce24a')\"\n",
              "            title=\"Convert this dataframe to an interactive table.\"\n",
              "            style=\"display:none;\">\n",
              "\n",
              "  <svg xmlns=\"http://www.w3.org/2000/svg\" height=\"24px\" viewBox=\"0 -960 960 960\">\n",
              "    <path d=\"M120-120v-720h720v720H120Zm60-500h600v-160H180v160Zm220 220h160v-160H400v160Zm0 220h160v-160H400v160ZM180-400h160v-160H180v160Zm440 0h160v-160H620v160ZM180-180h160v-160H180v160Zm440 0h160v-160H620v160Z\"/>\n",
              "  </svg>\n",
              "    </button>\n",
              "\n",
              "  <style>\n",
              "    .colab-df-container {\n",
              "      display:flex;\n",
              "      gap: 12px;\n",
              "    }\n",
              "\n",
              "    .colab-df-convert {\n",
              "      background-color: #E8F0FE;\n",
              "      border: none;\n",
              "      border-radius: 50%;\n",
              "      cursor: pointer;\n",
              "      display: none;\n",
              "      fill: #1967D2;\n",
              "      height: 32px;\n",
              "      padding: 0 0 0 0;\n",
              "      width: 32px;\n",
              "    }\n",
              "\n",
              "    .colab-df-convert:hover {\n",
              "      background-color: #E2EBFA;\n",
              "      box-shadow: 0px 1px 2px rgba(60, 64, 67, 0.3), 0px 1px 3px 1px rgba(60, 64, 67, 0.15);\n",
              "      fill: #174EA6;\n",
              "    }\n",
              "\n",
              "    .colab-df-buttons div {\n",
              "      margin-bottom: 4px;\n",
              "    }\n",
              "\n",
              "    [theme=dark] .colab-df-convert {\n",
              "      background-color: #3B4455;\n",
              "      fill: #D2E3FC;\n",
              "    }\n",
              "\n",
              "    [theme=dark] .colab-df-convert:hover {\n",
              "      background-color: #434B5C;\n",
              "      box-shadow: 0px 1px 3px 1px rgba(0, 0, 0, 0.15);\n",
              "      filter: drop-shadow(0px 1px 2px rgba(0, 0, 0, 0.3));\n",
              "      fill: #FFFFFF;\n",
              "    }\n",
              "  </style>\n",
              "\n",
              "    <script>\n",
              "      const buttonEl =\n",
              "        document.querySelector('#df-c6198104-aeba-4ec7-8f53-93fa643ce24a button.colab-df-convert');\n",
              "      buttonEl.style.display =\n",
              "        google.colab.kernel.accessAllowed ? 'block' : 'none';\n",
              "\n",
              "      async function convertToInteractive(key) {\n",
              "        const element = document.querySelector('#df-c6198104-aeba-4ec7-8f53-93fa643ce24a');\n",
              "        const dataTable =\n",
              "          await google.colab.kernel.invokeFunction('convertToInteractive',\n",
              "                                                    [key], {});\n",
              "        if (!dataTable) return;\n",
              "\n",
              "        const docLinkHtml = 'Like what you see? Visit the ' +\n",
              "          '<a target=\"_blank\" href=https://colab.research.google.com/notebooks/data_table.ipynb>data table notebook</a>'\n",
              "          + ' to learn more about interactive tables.';\n",
              "        element.innerHTML = '';\n",
              "        dataTable['output_type'] = 'display_data';\n",
              "        await google.colab.output.renderOutput(dataTable, element);\n",
              "        const docLink = document.createElement('div');\n",
              "        docLink.innerHTML = docLinkHtml;\n",
              "        element.appendChild(docLink);\n",
              "      }\n",
              "    </script>\n",
              "  </div>\n",
              "\n",
              "\n",
              "<div id=\"df-2b4573a6-7156-44cf-896b-737eb35adb0b\">\n",
              "  <button class=\"colab-df-quickchart\" onclick=\"quickchart('df-2b4573a6-7156-44cf-896b-737eb35adb0b')\"\n",
              "            title=\"Suggest charts\"\n",
              "            style=\"display:none;\">\n",
              "\n",
              "<svg xmlns=\"http://www.w3.org/2000/svg\" height=\"24px\"viewBox=\"0 0 24 24\"\n",
              "     width=\"24px\">\n",
              "    <g>\n",
              "        <path d=\"M19 3H5c-1.1 0-2 .9-2 2v14c0 1.1.9 2 2 2h14c1.1 0 2-.9 2-2V5c0-1.1-.9-2-2-2zM9 17H7v-7h2v7zm4 0h-2V7h2v10zm4 0h-2v-4h2v4z\"/>\n",
              "    </g>\n",
              "</svg>\n",
              "  </button>\n",
              "\n",
              "<style>\n",
              "  .colab-df-quickchart {\n",
              "      --bg-color: #E8F0FE;\n",
              "      --fill-color: #1967D2;\n",
              "      --hover-bg-color: #E2EBFA;\n",
              "      --hover-fill-color: #174EA6;\n",
              "      --disabled-fill-color: #AAA;\n",
              "      --disabled-bg-color: #DDD;\n",
              "  }\n",
              "\n",
              "  [theme=dark] .colab-df-quickchart {\n",
              "      --bg-color: #3B4455;\n",
              "      --fill-color: #D2E3FC;\n",
              "      --hover-bg-color: #434B5C;\n",
              "      --hover-fill-color: #FFFFFF;\n",
              "      --disabled-bg-color: #3B4455;\n",
              "      --disabled-fill-color: #666;\n",
              "  }\n",
              "\n",
              "  .colab-df-quickchart {\n",
              "    background-color: var(--bg-color);\n",
              "    border: none;\n",
              "    border-radius: 50%;\n",
              "    cursor: pointer;\n",
              "    display: none;\n",
              "    fill: var(--fill-color);\n",
              "    height: 32px;\n",
              "    padding: 0;\n",
              "    width: 32px;\n",
              "  }\n",
              "\n",
              "  .colab-df-quickchart:hover {\n",
              "    background-color: var(--hover-bg-color);\n",
              "    box-shadow: 0 1px 2px rgba(60, 64, 67, 0.3), 0 1px 3px 1px rgba(60, 64, 67, 0.15);\n",
              "    fill: var(--button-hover-fill-color);\n",
              "  }\n",
              "\n",
              "  .colab-df-quickchart-complete:disabled,\n",
              "  .colab-df-quickchart-complete:disabled:hover {\n",
              "    background-color: var(--disabled-bg-color);\n",
              "    fill: var(--disabled-fill-color);\n",
              "    box-shadow: none;\n",
              "  }\n",
              "\n",
              "  .colab-df-spinner {\n",
              "    border: 2px solid var(--fill-color);\n",
              "    border-color: transparent;\n",
              "    border-bottom-color: var(--fill-color);\n",
              "    animation:\n",
              "      spin 1s steps(1) infinite;\n",
              "  }\n",
              "\n",
              "  @keyframes spin {\n",
              "    0% {\n",
              "      border-color: transparent;\n",
              "      border-bottom-color: var(--fill-color);\n",
              "      border-left-color: var(--fill-color);\n",
              "    }\n",
              "    20% {\n",
              "      border-color: transparent;\n",
              "      border-left-color: var(--fill-color);\n",
              "      border-top-color: var(--fill-color);\n",
              "    }\n",
              "    30% {\n",
              "      border-color: transparent;\n",
              "      border-left-color: var(--fill-color);\n",
              "      border-top-color: var(--fill-color);\n",
              "      border-right-color: var(--fill-color);\n",
              "    }\n",
              "    40% {\n",
              "      border-color: transparent;\n",
              "      border-right-color: var(--fill-color);\n",
              "      border-top-color: var(--fill-color);\n",
              "    }\n",
              "    60% {\n",
              "      border-color: transparent;\n",
              "      border-right-color: var(--fill-color);\n",
              "    }\n",
              "    80% {\n",
              "      border-color: transparent;\n",
              "      border-right-color: var(--fill-color);\n",
              "      border-bottom-color: var(--fill-color);\n",
              "    }\n",
              "    90% {\n",
              "      border-color: transparent;\n",
              "      border-bottom-color: var(--fill-color);\n",
              "    }\n",
              "  }\n",
              "</style>\n",
              "\n",
              "  <script>\n",
              "    async function quickchart(key) {\n",
              "      const quickchartButtonEl =\n",
              "        document.querySelector('#' + key + ' button');\n",
              "      quickchartButtonEl.disabled = true;  // To prevent multiple clicks.\n",
              "      quickchartButtonEl.classList.add('colab-df-spinner');\n",
              "      try {\n",
              "        const charts = await google.colab.kernel.invokeFunction(\n",
              "            'suggestCharts', [key], {});\n",
              "      } catch (error) {\n",
              "        console.error('Error during call to suggestCharts:', error);\n",
              "      }\n",
              "      quickchartButtonEl.classList.remove('colab-df-spinner');\n",
              "      quickchartButtonEl.classList.add('colab-df-quickchart-complete');\n",
              "    }\n",
              "    (() => {\n",
              "      let quickchartButtonEl =\n",
              "        document.querySelector('#df-2b4573a6-7156-44cf-896b-737eb35adb0b button');\n",
              "      quickchartButtonEl.style.display =\n",
              "        google.colab.kernel.accessAllowed ? 'block' : 'none';\n",
              "    })();\n",
              "  </script>\n",
              "</div>\n",
              "\n",
              "  <div id=\"id_88eb370f-aa10-4f0a-b7b4-13ea255e046f\">\n",
              "    <style>\n",
              "      .colab-df-generate {\n",
              "        background-color: #E8F0FE;\n",
              "        border: none;\n",
              "        border-radius: 50%;\n",
              "        cursor: pointer;\n",
              "        display: none;\n",
              "        fill: #1967D2;\n",
              "        height: 32px;\n",
              "        padding: 0 0 0 0;\n",
              "        width: 32px;\n",
              "      }\n",
              "\n",
              "      .colab-df-generate:hover {\n",
              "        background-color: #E2EBFA;\n",
              "        box-shadow: 0px 1px 2px rgba(60, 64, 67, 0.3), 0px 1px 3px 1px rgba(60, 64, 67, 0.15);\n",
              "        fill: #174EA6;\n",
              "      }\n",
              "\n",
              "      [theme=dark] .colab-df-generate {\n",
              "        background-color: #3B4455;\n",
              "        fill: #D2E3FC;\n",
              "      }\n",
              "\n",
              "      [theme=dark] .colab-df-generate:hover {\n",
              "        background-color: #434B5C;\n",
              "        box-shadow: 0px 1px 3px 1px rgba(0, 0, 0, 0.15);\n",
              "        filter: drop-shadow(0px 1px 2px rgba(0, 0, 0, 0.3));\n",
              "        fill: #FFFFFF;\n",
              "      }\n",
              "    </style>\n",
              "    <button class=\"colab-df-generate\" onclick=\"generateWithVariable('df')\"\n",
              "            title=\"Generate code using this dataframe.\"\n",
              "            style=\"display:none;\">\n",
              "\n",
              "  <svg xmlns=\"http://www.w3.org/2000/svg\" height=\"24px\"viewBox=\"0 0 24 24\"\n",
              "       width=\"24px\">\n",
              "    <path d=\"M7,19H8.4L18.45,9,17,7.55,7,17.6ZM5,21V16.75L18.45,3.32a2,2,0,0,1,2.83,0l1.4,1.43a1.91,1.91,0,0,1,.58,1.4,1.91,1.91,0,0,1-.58,1.4L9.25,21ZM18.45,9,17,7.55Zm-12,3A5.31,5.31,0,0,0,4.9,8.1,5.31,5.31,0,0,0,1,6.5,5.31,5.31,0,0,0,4.9,4.9,5.31,5.31,0,0,0,6.5,1,5.31,5.31,0,0,0,8.1,4.9,5.31,5.31,0,0,0,12,6.5,5.46,5.46,0,0,0,6.5,12Z\"/>\n",
              "  </svg>\n",
              "    </button>\n",
              "    <script>\n",
              "      (() => {\n",
              "      const buttonEl =\n",
              "        document.querySelector('#id_88eb370f-aa10-4f0a-b7b4-13ea255e046f button.colab-df-generate');\n",
              "      buttonEl.style.display =\n",
              "        google.colab.kernel.accessAllowed ? 'block' : 'none';\n",
              "\n",
              "      buttonEl.onclick = () => {\n",
              "        google.colab.notebook.generateWithVariable('df');\n",
              "      }\n",
              "      })();\n",
              "    </script>\n",
              "  </div>\n",
              "\n",
              "    </div>\n",
              "  </div>\n"
            ],
            "application/vnd.google.colaboratory.intrinsic+json": {
              "type": "dataframe",
              "variable_name": "df",
              "summary": "{\n  \"name\": \"df\",\n  \"rows\": 5572,\n  \"fields\": [\n    {\n      \"column\": \"Category\",\n      \"properties\": {\n        \"dtype\": \"category\",\n        \"num_unique_values\": 2,\n        \"samples\": [\n          \"spam\",\n          \"ham\"\n        ],\n        \"semantic_type\": \"\",\n        \"description\": \"\"\n      }\n    },\n    {\n      \"column\": \"Message\",\n      \"properties\": {\n        \"dtype\": \"string\",\n        \"num_unique_values\": 5157,\n        \"samples\": [\n          \"Also sir, i sent you an email about how to log into the usc payment portal. I.ll send you another message that should explain how things are back home. Have a great weekend.\",\n          \"Are you free now?can i call now?\"\n        ],\n        \"semantic_type\": \"\",\n        \"description\": \"\"\n      }\n    }\n  ]\n}"
            }
          },
          "metadata": {},
          "execution_count": 167
        }
      ]
    },
    {
      "cell_type": "code",
      "source": [
        "df.Category.value_counts()"
      ],
      "metadata": {
        "id": "r4DdzslFG3CE",
        "outputId": "c92cad57-a5b1-4e79-c87d-753ce34d5a00",
        "colab": {
          "base_uri": "https://localhost:8080/"
        }
      },
      "execution_count": 168,
      "outputs": [
        {
          "output_type": "execute_result",
          "data": {
            "text/plain": [
              "Category\n",
              "ham     4825\n",
              "spam     747\n",
              "Name: count, dtype: int64"
            ]
          },
          "metadata": {},
          "execution_count": 168
        }
      ]
    },
    {
      "cell_type": "code",
      "source": [
        "df['spam']=df['Category'].apply(lambda x:1 if x=='spam' else 0)"
      ],
      "metadata": {
        "id": "uuQvkap_G8NY"
      },
      "execution_count": 170,
      "outputs": []
    },
    {
      "cell_type": "code",
      "source": [
        "df.head()"
      ],
      "metadata": {
        "id": "bmc0JrUMHwrj",
        "outputId": "b41d48a2-172a-49c6-c73d-14f023cb220a",
        "colab": {
          "base_uri": "https://localhost:8080/",
          "height": 206
        }
      },
      "execution_count": 171,
      "outputs": [
        {
          "output_type": "execute_result",
          "data": {
            "text/plain": [
              "  Category                                            Message  spam\n",
              "0      ham  Go until jurong point, crazy.. Available only ...     0\n",
              "1      ham                      Ok lar... Joking wif u oni...     0\n",
              "2     spam  Free entry in 2 a wkly comp to win FA Cup fina...     1\n",
              "3      ham  U dun say so early hor... U c already then say...     0\n",
              "4      ham  Nah I don't think he goes to usf, he lives aro...     0"
            ],
            "text/html": [
              "\n",
              "  <div id=\"df-13cf4a9e-84b5-47f8-bed9-9c7f84182f0f\" class=\"colab-df-container\">\n",
              "    <div>\n",
              "<style scoped>\n",
              "    .dataframe tbody tr th:only-of-type {\n",
              "        vertical-align: middle;\n",
              "    }\n",
              "\n",
              "    .dataframe tbody tr th {\n",
              "        vertical-align: top;\n",
              "    }\n",
              "\n",
              "    .dataframe thead th {\n",
              "        text-align: right;\n",
              "    }\n",
              "</style>\n",
              "<table border=\"1\" class=\"dataframe\">\n",
              "  <thead>\n",
              "    <tr style=\"text-align: right;\">\n",
              "      <th></th>\n",
              "      <th>Category</th>\n",
              "      <th>Message</th>\n",
              "      <th>spam</th>\n",
              "    </tr>\n",
              "  </thead>\n",
              "  <tbody>\n",
              "    <tr>\n",
              "      <th>0</th>\n",
              "      <td>ham</td>\n",
              "      <td>Go until jurong point, crazy.. Available only ...</td>\n",
              "      <td>0</td>\n",
              "    </tr>\n",
              "    <tr>\n",
              "      <th>1</th>\n",
              "      <td>ham</td>\n",
              "      <td>Ok lar... Joking wif u oni...</td>\n",
              "      <td>0</td>\n",
              "    </tr>\n",
              "    <tr>\n",
              "      <th>2</th>\n",
              "      <td>spam</td>\n",
              "      <td>Free entry in 2 a wkly comp to win FA Cup fina...</td>\n",
              "      <td>1</td>\n",
              "    </tr>\n",
              "    <tr>\n",
              "      <th>3</th>\n",
              "      <td>ham</td>\n",
              "      <td>U dun say so early hor... U c already then say...</td>\n",
              "      <td>0</td>\n",
              "    </tr>\n",
              "    <tr>\n",
              "      <th>4</th>\n",
              "      <td>ham</td>\n",
              "      <td>Nah I don't think he goes to usf, he lives aro...</td>\n",
              "      <td>0</td>\n",
              "    </tr>\n",
              "  </tbody>\n",
              "</table>\n",
              "</div>\n",
              "    <div class=\"colab-df-buttons\">\n",
              "\n",
              "  <div class=\"colab-df-container\">\n",
              "    <button class=\"colab-df-convert\" onclick=\"convertToInteractive('df-13cf4a9e-84b5-47f8-bed9-9c7f84182f0f')\"\n",
              "            title=\"Convert this dataframe to an interactive table.\"\n",
              "            style=\"display:none;\">\n",
              "\n",
              "  <svg xmlns=\"http://www.w3.org/2000/svg\" height=\"24px\" viewBox=\"0 -960 960 960\">\n",
              "    <path d=\"M120-120v-720h720v720H120Zm60-500h600v-160H180v160Zm220 220h160v-160H400v160Zm0 220h160v-160H400v160ZM180-400h160v-160H180v160Zm440 0h160v-160H620v160ZM180-180h160v-160H180v160Zm440 0h160v-160H620v160Z\"/>\n",
              "  </svg>\n",
              "    </button>\n",
              "\n",
              "  <style>\n",
              "    .colab-df-container {\n",
              "      display:flex;\n",
              "      gap: 12px;\n",
              "    }\n",
              "\n",
              "    .colab-df-convert {\n",
              "      background-color: #E8F0FE;\n",
              "      border: none;\n",
              "      border-radius: 50%;\n",
              "      cursor: pointer;\n",
              "      display: none;\n",
              "      fill: #1967D2;\n",
              "      height: 32px;\n",
              "      padding: 0 0 0 0;\n",
              "      width: 32px;\n",
              "    }\n",
              "\n",
              "    .colab-df-convert:hover {\n",
              "      background-color: #E2EBFA;\n",
              "      box-shadow: 0px 1px 2px rgba(60, 64, 67, 0.3), 0px 1px 3px 1px rgba(60, 64, 67, 0.15);\n",
              "      fill: #174EA6;\n",
              "    }\n",
              "\n",
              "    .colab-df-buttons div {\n",
              "      margin-bottom: 4px;\n",
              "    }\n",
              "\n",
              "    [theme=dark] .colab-df-convert {\n",
              "      background-color: #3B4455;\n",
              "      fill: #D2E3FC;\n",
              "    }\n",
              "\n",
              "    [theme=dark] .colab-df-convert:hover {\n",
              "      background-color: #434B5C;\n",
              "      box-shadow: 0px 1px 3px 1px rgba(0, 0, 0, 0.15);\n",
              "      filter: drop-shadow(0px 1px 2px rgba(0, 0, 0, 0.3));\n",
              "      fill: #FFFFFF;\n",
              "    }\n",
              "  </style>\n",
              "\n",
              "    <script>\n",
              "      const buttonEl =\n",
              "        document.querySelector('#df-13cf4a9e-84b5-47f8-bed9-9c7f84182f0f button.colab-df-convert');\n",
              "      buttonEl.style.display =\n",
              "        google.colab.kernel.accessAllowed ? 'block' : 'none';\n",
              "\n",
              "      async function convertToInteractive(key) {\n",
              "        const element = document.querySelector('#df-13cf4a9e-84b5-47f8-bed9-9c7f84182f0f');\n",
              "        const dataTable =\n",
              "          await google.colab.kernel.invokeFunction('convertToInteractive',\n",
              "                                                    [key], {});\n",
              "        if (!dataTable) return;\n",
              "\n",
              "        const docLinkHtml = 'Like what you see? Visit the ' +\n",
              "          '<a target=\"_blank\" href=https://colab.research.google.com/notebooks/data_table.ipynb>data table notebook</a>'\n",
              "          + ' to learn more about interactive tables.';\n",
              "        element.innerHTML = '';\n",
              "        dataTable['output_type'] = 'display_data';\n",
              "        await google.colab.output.renderOutput(dataTable, element);\n",
              "        const docLink = document.createElement('div');\n",
              "        docLink.innerHTML = docLinkHtml;\n",
              "        element.appendChild(docLink);\n",
              "      }\n",
              "    </script>\n",
              "  </div>\n",
              "\n",
              "\n",
              "<div id=\"df-516126b5-783a-4c8d-8c4f-b4ef929b7f64\">\n",
              "  <button class=\"colab-df-quickchart\" onclick=\"quickchart('df-516126b5-783a-4c8d-8c4f-b4ef929b7f64')\"\n",
              "            title=\"Suggest charts\"\n",
              "            style=\"display:none;\">\n",
              "\n",
              "<svg xmlns=\"http://www.w3.org/2000/svg\" height=\"24px\"viewBox=\"0 0 24 24\"\n",
              "     width=\"24px\">\n",
              "    <g>\n",
              "        <path d=\"M19 3H5c-1.1 0-2 .9-2 2v14c0 1.1.9 2 2 2h14c1.1 0 2-.9 2-2V5c0-1.1-.9-2-2-2zM9 17H7v-7h2v7zm4 0h-2V7h2v10zm4 0h-2v-4h2v4z\"/>\n",
              "    </g>\n",
              "</svg>\n",
              "  </button>\n",
              "\n",
              "<style>\n",
              "  .colab-df-quickchart {\n",
              "      --bg-color: #E8F0FE;\n",
              "      --fill-color: #1967D2;\n",
              "      --hover-bg-color: #E2EBFA;\n",
              "      --hover-fill-color: #174EA6;\n",
              "      --disabled-fill-color: #AAA;\n",
              "      --disabled-bg-color: #DDD;\n",
              "  }\n",
              "\n",
              "  [theme=dark] .colab-df-quickchart {\n",
              "      --bg-color: #3B4455;\n",
              "      --fill-color: #D2E3FC;\n",
              "      --hover-bg-color: #434B5C;\n",
              "      --hover-fill-color: #FFFFFF;\n",
              "      --disabled-bg-color: #3B4455;\n",
              "      --disabled-fill-color: #666;\n",
              "  }\n",
              "\n",
              "  .colab-df-quickchart {\n",
              "    background-color: var(--bg-color);\n",
              "    border: none;\n",
              "    border-radius: 50%;\n",
              "    cursor: pointer;\n",
              "    display: none;\n",
              "    fill: var(--fill-color);\n",
              "    height: 32px;\n",
              "    padding: 0;\n",
              "    width: 32px;\n",
              "  }\n",
              "\n",
              "  .colab-df-quickchart:hover {\n",
              "    background-color: var(--hover-bg-color);\n",
              "    box-shadow: 0 1px 2px rgba(60, 64, 67, 0.3), 0 1px 3px 1px rgba(60, 64, 67, 0.15);\n",
              "    fill: var(--button-hover-fill-color);\n",
              "  }\n",
              "\n",
              "  .colab-df-quickchart-complete:disabled,\n",
              "  .colab-df-quickchart-complete:disabled:hover {\n",
              "    background-color: var(--disabled-bg-color);\n",
              "    fill: var(--disabled-fill-color);\n",
              "    box-shadow: none;\n",
              "  }\n",
              "\n",
              "  .colab-df-spinner {\n",
              "    border: 2px solid var(--fill-color);\n",
              "    border-color: transparent;\n",
              "    border-bottom-color: var(--fill-color);\n",
              "    animation:\n",
              "      spin 1s steps(1) infinite;\n",
              "  }\n",
              "\n",
              "  @keyframes spin {\n",
              "    0% {\n",
              "      border-color: transparent;\n",
              "      border-bottom-color: var(--fill-color);\n",
              "      border-left-color: var(--fill-color);\n",
              "    }\n",
              "    20% {\n",
              "      border-color: transparent;\n",
              "      border-left-color: var(--fill-color);\n",
              "      border-top-color: var(--fill-color);\n",
              "    }\n",
              "    30% {\n",
              "      border-color: transparent;\n",
              "      border-left-color: var(--fill-color);\n",
              "      border-top-color: var(--fill-color);\n",
              "      border-right-color: var(--fill-color);\n",
              "    }\n",
              "    40% {\n",
              "      border-color: transparent;\n",
              "      border-right-color: var(--fill-color);\n",
              "      border-top-color: var(--fill-color);\n",
              "    }\n",
              "    60% {\n",
              "      border-color: transparent;\n",
              "      border-right-color: var(--fill-color);\n",
              "    }\n",
              "    80% {\n",
              "      border-color: transparent;\n",
              "      border-right-color: var(--fill-color);\n",
              "      border-bottom-color: var(--fill-color);\n",
              "    }\n",
              "    90% {\n",
              "      border-color: transparent;\n",
              "      border-bottom-color: var(--fill-color);\n",
              "    }\n",
              "  }\n",
              "</style>\n",
              "\n",
              "  <script>\n",
              "    async function quickchart(key) {\n",
              "      const quickchartButtonEl =\n",
              "        document.querySelector('#' + key + ' button');\n",
              "      quickchartButtonEl.disabled = true;  // To prevent multiple clicks.\n",
              "      quickchartButtonEl.classList.add('colab-df-spinner');\n",
              "      try {\n",
              "        const charts = await google.colab.kernel.invokeFunction(\n",
              "            'suggestCharts', [key], {});\n",
              "      } catch (error) {\n",
              "        console.error('Error during call to suggestCharts:', error);\n",
              "      }\n",
              "      quickchartButtonEl.classList.remove('colab-df-spinner');\n",
              "      quickchartButtonEl.classList.add('colab-df-quickchart-complete');\n",
              "    }\n",
              "    (() => {\n",
              "      let quickchartButtonEl =\n",
              "        document.querySelector('#df-516126b5-783a-4c8d-8c4f-b4ef929b7f64 button');\n",
              "      quickchartButtonEl.style.display =\n",
              "        google.colab.kernel.accessAllowed ? 'block' : 'none';\n",
              "    })();\n",
              "  </script>\n",
              "</div>\n",
              "\n",
              "    </div>\n",
              "  </div>\n"
            ],
            "application/vnd.google.colaboratory.intrinsic+json": {
              "type": "dataframe",
              "variable_name": "df",
              "summary": "{\n  \"name\": \"df\",\n  \"rows\": 5572,\n  \"fields\": [\n    {\n      \"column\": \"Category\",\n      \"properties\": {\n        \"dtype\": \"category\",\n        \"num_unique_values\": 2,\n        \"samples\": [\n          \"spam\",\n          \"ham\"\n        ],\n        \"semantic_type\": \"\",\n        \"description\": \"\"\n      }\n    },\n    {\n      \"column\": \"Message\",\n      \"properties\": {\n        \"dtype\": \"string\",\n        \"num_unique_values\": 5157,\n        \"samples\": [\n          \"Also sir, i sent you an email about how to log into the usc payment portal. I.ll send you another message that should explain how things are back home. Have a great weekend.\",\n          \"Are you free now?can i call now?\"\n        ],\n        \"semantic_type\": \"\",\n        \"description\": \"\"\n      }\n    },\n    {\n      \"column\": \"spam\",\n      \"properties\": {\n        \"dtype\": \"number\",\n        \"std\": 0,\n        \"min\": 0,\n        \"max\": 1,\n        \"num_unique_values\": 2,\n        \"samples\": [\n          1,\n          0\n        ],\n        \"semantic_type\": \"\",\n        \"description\": \"\"\n      }\n    }\n  ]\n}"
            }
          },
          "metadata": {},
          "execution_count": 171
        }
      ]
    },
    {
      "cell_type": "code",
      "source": [
        "df['spam'].value_counts()"
      ],
      "metadata": {
        "id": "ELo1PXixH0U3",
        "outputId": "2890863d-ed9b-4c8a-c617-3c5c55c00409",
        "colab": {
          "base_uri": "https://localhost:8080/"
        }
      },
      "execution_count": 172,
      "outputs": [
        {
          "output_type": "execute_result",
          "data": {
            "text/plain": [
              "spam\n",
              "0    4825\n",
              "1     747\n",
              "Name: count, dtype: int64"
            ]
          },
          "metadata": {},
          "execution_count": 172
        }
      ]
    },
    {
      "cell_type": "code",
      "source": [
        "from sklearn.model_selection import train_test_split"
      ],
      "metadata": {
        "id": "vgkKCZ0IH5uK"
      },
      "execution_count": 174,
      "outputs": []
    },
    {
      "cell_type": "code",
      "source": [
        "x_train,x_test,y_train,y_test=train_test_split(df.Message,df.spam,test_size=0.2,random_state=0)"
      ],
      "metadata": {
        "id": "cqQB7BZcIgv_"
      },
      "execution_count": 222,
      "outputs": []
    },
    {
      "cell_type": "code",
      "source": [
        "x_train.shape"
      ],
      "metadata": {
        "id": "Wt2naLamIzy8",
        "outputId": "bd9c76f0-b872-4b86-babd-3e4a1a4446c3",
        "colab": {
          "base_uri": "https://localhost:8080/"
        }
      },
      "execution_count": 176,
      "outputs": [
        {
          "output_type": "execute_result",
          "data": {
            "text/plain": [
              "(4457,)"
            ]
          },
          "metadata": {},
          "execution_count": 176
        }
      ]
    },
    {
      "cell_type": "code",
      "source": [
        "x_test.shape"
      ],
      "metadata": {
        "id": "cyp8j0hYI5TZ",
        "outputId": "50ef43e4-fec9-49e3-c16f-ff18e24ffc06",
        "colab": {
          "base_uri": "https://localhost:8080/"
        }
      },
      "execution_count": 177,
      "outputs": [
        {
          "output_type": "execute_result",
          "data": {
            "text/plain": [
              "(1115,)"
            ]
          },
          "metadata": {},
          "execution_count": 177
        }
      ]
    },
    {
      "cell_type": "code",
      "source": [
        "type(x_train)"
      ],
      "metadata": {
        "id": "IQMS2jyBI7w7",
        "outputId": "7138e5a6-756e-4585-a6f5-3d916b82a287",
        "colab": {
          "base_uri": "https://localhost:8080/",
          "height": 203
        }
      },
      "execution_count": 178,
      "outputs": [
        {
          "output_type": "execute_result",
          "data": {
            "text/plain": [
              "pandas.core.series.Series"
            ],
            "text/html": [
              "<div style=\"max-width:800px; border: 1px solid var(--colab-border-color);\"><style>\n",
              "      pre.function-repr-contents {\n",
              "        overflow-x: auto;\n",
              "        padding: 8px 12px;\n",
              "        max-height: 500px;\n",
              "      }\n",
              "\n",
              "      pre.function-repr-contents.function-repr-contents-collapsed {\n",
              "        cursor: pointer;\n",
              "        max-height: 100px;\n",
              "      }\n",
              "    </style>\n",
              "    <pre style=\"white-space: initial; background:\n",
              "         var(--colab-secondary-surface-color); padding: 8px 12px;\n",
              "         border-bottom: 1px solid var(--colab-border-color);\"><b>pandas.core.series.Series</b><br/>def __init__(data=None, index=None, dtype: Dtype | None=None, name=None, copy: bool | None=None, fastpath: bool=False) -&gt; None</pre><pre class=\"function-repr-contents function-repr-contents-collapsed\" style=\"\"><a class=\"filepath\" style=\"display:none\" href=\"#\">/usr/local/lib/python3.10/dist-packages/pandas/core/series.py</a>One-dimensional ndarray with axis labels (including time series).\n",
              "\n",
              "Labels need not be unique but must be a hashable type. The object\n",
              "supports both integer- and label-based indexing and provides a host of\n",
              "methods for performing operations involving the index. Statistical\n",
              "methods from ndarray have been overridden to automatically exclude\n",
              "missing data (currently represented as NaN).\n",
              "\n",
              "Operations between Series (+, -, /, \\*, \\*\\*) align values based on their\n",
              "associated index values-- they need not be the same length. The result\n",
              "index will be the sorted union of the two indexes.\n",
              "\n",
              "Parameters\n",
              "----------\n",
              "data : array-like, Iterable, dict, or scalar value\n",
              "    Contains data stored in Series. If data is a dict, argument order is\n",
              "    maintained.\n",
              "index : array-like or Index (1d)\n",
              "    Values must be hashable and have the same length as `data`.\n",
              "    Non-unique index values are allowed. Will default to\n",
              "    RangeIndex (0, 1, 2, ..., n) if not provided. If data is dict-like\n",
              "    and index is None, then the keys in the data are used as the index. If the\n",
              "    index is not None, the resulting Series is reindexed with the index values.\n",
              "dtype : str, numpy.dtype, or ExtensionDtype, optional\n",
              "    Data type for the output Series. If not specified, this will be\n",
              "    inferred from `data`.\n",
              "    See the :ref:`user guide &lt;basics.dtypes&gt;` for more usages.\n",
              "name : Hashable, default None\n",
              "    The name to give to the Series.\n",
              "copy : bool, default False\n",
              "    Copy input data. Only affects Series or 1d ndarray input. See examples.\n",
              "\n",
              "Notes\n",
              "-----\n",
              "Please reference the :ref:`User Guide &lt;basics.series&gt;` for more information.\n",
              "\n",
              "Examples\n",
              "--------\n",
              "Constructing Series from a dictionary with an Index specified\n",
              "\n",
              "&gt;&gt;&gt; d = {&#x27;a&#x27;: 1, &#x27;b&#x27;: 2, &#x27;c&#x27;: 3}\n",
              "&gt;&gt;&gt; ser = pd.Series(data=d, index=[&#x27;a&#x27;, &#x27;b&#x27;, &#x27;c&#x27;])\n",
              "&gt;&gt;&gt; ser\n",
              "a   1\n",
              "b   2\n",
              "c   3\n",
              "dtype: int64\n",
              "\n",
              "The keys of the dictionary match with the Index values, hence the Index\n",
              "values have no effect.\n",
              "\n",
              "&gt;&gt;&gt; d = {&#x27;a&#x27;: 1, &#x27;b&#x27;: 2, &#x27;c&#x27;: 3}\n",
              "&gt;&gt;&gt; ser = pd.Series(data=d, index=[&#x27;x&#x27;, &#x27;y&#x27;, &#x27;z&#x27;])\n",
              "&gt;&gt;&gt; ser\n",
              "x   NaN\n",
              "y   NaN\n",
              "z   NaN\n",
              "dtype: float64\n",
              "\n",
              "Note that the Index is first build with the keys from the dictionary.\n",
              "After this the Series is reindexed with the given Index values, hence we\n",
              "get all NaN as a result.\n",
              "\n",
              "Constructing Series from a list with `copy=False`.\n",
              "\n",
              "&gt;&gt;&gt; r = [1, 2]\n",
              "&gt;&gt;&gt; ser = pd.Series(r, copy=False)\n",
              "&gt;&gt;&gt; ser.iloc[0] = 999\n",
              "&gt;&gt;&gt; r\n",
              "[1, 2]\n",
              "&gt;&gt;&gt; ser\n",
              "0    999\n",
              "1      2\n",
              "dtype: int64\n",
              "\n",
              "Due to input data type the Series has a `copy` of\n",
              "the original data even though `copy=False`, so\n",
              "the data is unchanged.\n",
              "\n",
              "Constructing Series from a 1d ndarray with `copy=False`.\n",
              "\n",
              "&gt;&gt;&gt; r = np.array([1, 2])\n",
              "&gt;&gt;&gt; ser = pd.Series(r, copy=False)\n",
              "&gt;&gt;&gt; ser.iloc[0] = 999\n",
              "&gt;&gt;&gt; r\n",
              "array([999,   2])\n",
              "&gt;&gt;&gt; ser\n",
              "0    999\n",
              "1      2\n",
              "dtype: int64\n",
              "\n",
              "Due to input data type the Series has a `view` on\n",
              "the original data, so\n",
              "the data is changed as well.</pre>\n",
              "      <script>\n",
              "      if (google.colab.kernel.accessAllowed && google.colab.files && google.colab.files.view) {\n",
              "        for (const element of document.querySelectorAll('.filepath')) {\n",
              "          element.style.display = 'block'\n",
              "          element.onclick = (event) => {\n",
              "            event.preventDefault();\n",
              "            event.stopPropagation();\n",
              "            google.colab.files.view(element.textContent, 244);\n",
              "          };\n",
              "        }\n",
              "      }\n",
              "      for (const element of document.querySelectorAll('.function-repr-contents')) {\n",
              "        element.onclick = (event) => {\n",
              "          event.preventDefault();\n",
              "          event.stopPropagation();\n",
              "          element.classList.toggle('function-repr-contents-collapsed');\n",
              "        };\n",
              "      }\n",
              "      </script>\n",
              "      </div>"
            ]
          },
          "metadata": {},
          "execution_count": 178
        }
      ]
    },
    {
      "cell_type": "code",
      "source": [
        "x_train[:4]"
      ],
      "metadata": {
        "id": "u6T3wBNxJBWL",
        "outputId": "670fa743-dc29-41a5-8dce-6b6ebf127706",
        "colab": {
          "base_uri": "https://localhost:8080/"
        }
      },
      "execution_count": 179,
      "outputs": [
        {
          "output_type": "execute_result",
          "data": {
            "text/plain": [
              "1114    No I'm good for the movie, is it ok if I leave...\n",
              "3589    If you were/are free i can give. Otherwise nal...\n",
              "3095    Have you emigrated or something? Ok maybe 5.30...\n",
              "1012          I just got home babe, are you still awake ?\n",
              "Name: Message, dtype: object"
            ]
          },
          "metadata": {},
          "execution_count": 179
        }
      ]
    },
    {
      "cell_type": "code",
      "source": [
        "y_train[:4]"
      ],
      "metadata": {
        "id": "KRW_atE9JGFO",
        "outputId": "3821b956-fbca-46dc-e07f-569aece77c83",
        "colab": {
          "base_uri": "https://localhost:8080/"
        }
      },
      "execution_count": 180,
      "outputs": [
        {
          "output_type": "execute_result",
          "data": {
            "text/plain": [
              "1114    0\n",
              "3589    0\n",
              "3095    0\n",
              "1012    0\n",
              "Name: spam, dtype: int64"
            ]
          },
          "metadata": {},
          "execution_count": 180
        }
      ]
    },
    {
      "cell_type": "code",
      "source": [
        "x_train.values"
      ],
      "metadata": {
        "id": "aQCNV0qFJY3F",
        "outputId": "74baf9aa-9e2d-43dd-85e2-2c76d8ca4abc",
        "colab": {
          "base_uri": "https://localhost:8080/"
        }
      },
      "execution_count": 181,
      "outputs": [
        {
          "output_type": "execute_result",
          "data": {
            "text/plain": [
              "array([\"No I'm good for the movie, is it ok if I leave in an hourish?\",\n",
              "       'If you were/are free i can give. Otherwise nalla adi entey nattil kittum',\n",
              "       'Have you emigrated or something? Ok maybe 5.30 was a bit hopeful...',\n",
              "       ...,\n",
              "       \"For ur chance to win a £250 cash every wk TXT: ACTION to 80608. T's&C's www.movietrivia.tv custcare 08712405022, 1x150p/wk\",\n",
              "       'R U &SAM P IN EACHOTHER. IF WE MEET WE CAN GO 2 MY HOUSE',\n",
              "       'Mm feeling sleepy. today itself i shall get that dear'],\n",
              "      dtype=object)"
            ]
          },
          "metadata": {},
          "execution_count": 181
        }
      ]
    },
    {
      "cell_type": "code",
      "source": [
        "from sklearn.feature_extraction.text import CountVectorizer\n",
        "\n"
      ],
      "metadata": {
        "id": "XUVi2W8NJ6Dz"
      },
      "execution_count": 184,
      "outputs": []
    },
    {
      "cell_type": "code",
      "source": [
        "v=CountVectorizer()"
      ],
      "metadata": {
        "id": "2v_Y5TSBKYCR"
      },
      "execution_count": 185,
      "outputs": []
    },
    {
      "cell_type": "code",
      "source": [
        "x_train_cv=v.fit_transform(x_train.values)\n",
        "x_train_cv"
      ],
      "metadata": {
        "id": "gxAtxFKzKnS-",
        "outputId": "04471ef1-6fe7-4652-b806-01a2281a94ae",
        "colab": {
          "base_uri": "https://localhost:8080/"
        }
      },
      "execution_count": 186,
      "outputs": [
        {
          "output_type": "execute_result",
          "data": {
            "text/plain": [
              "<4457x7788 sparse matrix of type '<class 'numpy.int64'>'\n",
              "\twith 59003 stored elements in Compressed Sparse Row format>"
            ]
          },
          "metadata": {},
          "execution_count": 186
        }
      ]
    },
    {
      "cell_type": "code",
      "source": [
        "x_train_cv.toarray()"
      ],
      "metadata": {
        "id": "TKHbUg9PKrt0",
        "outputId": "9ef8e7ba-af14-41cb-c6c2-2f22dca95e24",
        "colab": {
          "base_uri": "https://localhost:8080/"
        }
      },
      "execution_count": 204,
      "outputs": [
        {
          "output_type": "execute_result",
          "data": {
            "text/plain": [
              "array([[0, 0, 0, ..., 0, 0, 0],\n",
              "       [0, 0, 0, ..., 0, 0, 0],\n",
              "       [0, 0, 0, ..., 0, 0, 0],\n",
              "       ...,\n",
              "       [0, 0, 0, ..., 0, 0, 0],\n",
              "       [0, 0, 0, ..., 0, 0, 0],\n",
              "       [0, 0, 0, ..., 0, 0, 0]])"
            ]
          },
          "metadata": {},
          "execution_count": 204
        }
      ]
    },
    {
      "cell_type": "code",
      "source": [
        "x_train_cv.shape"
      ],
      "metadata": {
        "id": "biUN3NytK4Dm",
        "outputId": "7535e6a2-62e4-412b-e46b-3fa04a9da7b9",
        "colab": {
          "base_uri": "https://localhost:8080/"
        }
      },
      "execution_count": 190,
      "outputs": [
        {
          "output_type": "execute_result",
          "data": {
            "text/plain": [
              "(4457, 7788)"
            ]
          },
          "metadata": {},
          "execution_count": 190
        }
      ]
    },
    {
      "cell_type": "code",
      "source": [
        "v.get_feature_names_out()[6847]"
      ],
      "metadata": {
        "id": "xqeg0ArHLCRs",
        "outputId": "7de3d87c-2ffd-4d24-ec30-7fb8c34fb2fe",
        "colab": {
          "base_uri": "https://localhost:8080/",
          "height": 36
        }
      },
      "execution_count": 192,
      "outputs": [
        {
          "output_type": "execute_result",
          "data": {
            "text/plain": [
              "'thandiyachu'"
            ],
            "application/vnd.google.colaboratory.intrinsic+json": {
              "type": "string"
            }
          },
          "metadata": {},
          "execution_count": 192
        }
      ]
    },
    {
      "cell_type": "code",
      "source": [
        "v.vocabulary_"
      ],
      "metadata": {
        "id": "O3e7I-ARLN72",
        "outputId": "87a08a1b-6576-445d-abaa-ac2d4ee87927",
        "colab": {
          "base_uri": "https://localhost:8080/"
        }
      },
      "execution_count": 193,
      "outputs": [
        {
          "output_type": "execute_result",
          "data": {
            "text/plain": [
              "{'no': 4809,\n",
              " 'good': 3196,\n",
              " 'for': 2943,\n",
              " 'the': 6861,\n",
              " 'movie': 4623,\n",
              " 'is': 3769,\n",
              " 'it': 3781,\n",
              " 'ok': 4932,\n",
              " 'if': 3615,\n",
              " 'leave': 4084,\n",
              " 'in': 3661,\n",
              " 'an': 957,\n",
              " 'hourish': 3529,\n",
              " 'you': 7751,\n",
              " 'were': 7502,\n",
              " 'are': 1048,\n",
              " 'free': 2990,\n",
              " 'can': 1625,\n",
              " 'give': 3158,\n",
              " 'otherwise': 5021,\n",
              " 'nalla': 4696,\n",
              " 'adi': 816,\n",
              " 'entey': 2603,\n",
              " 'nattil': 4716,\n",
              " 'kittum': 3977,\n",
              " 'have': 3369,\n",
              " 'emigrated': 2570,\n",
              " 'or': 4993,\n",
              " 'something': 6351,\n",
              " 'maybe': 4423,\n",
              " '30': 432,\n",
              " 'was': 7429,\n",
              " 'bit': 1359,\n",
              " 'hopeful': 3505,\n",
              " 'just': 3899,\n",
              " 'got': 3213,\n",
              " 'home': 3485,\n",
              " 'babe': 1191,\n",
              " 'still': 6524,\n",
              " 'awake': 1169,\n",
              " 'kay': 3926,\n",
              " 'since': 6213,\n",
              " 'we': 7455,\n",
              " 'out': 5028,\n",
              " 'already': 924,\n",
              " 'me': 4428,\n",
              " 'not': 4845,\n",
              " 'workin': 7637,\n",
              " 'once': 4954,\n",
              " 'get': 3132,\n",
              " 'job': 3852,\n",
              " 'what': 7515,\n",
              " 'he': 3379,\n",
              " 'said': 5915,\n",
              " 'matter': 4412,\n",
              " 'my': 4679,\n",
              " 'mind': 4505,\n",
              " 'saying': 5963,\n",
              " 'some': 6341,\n",
              " 'other': 5019,\n",
              " 'there': 6880,\n",
              " 'oh': 4927,\n",
              " 'yeah': 7723,\n",
              " 'and': 961,\n",
              " 'diet': 2305,\n",
              " 'flew': 2891,\n",
              " 'window': 7567,\n",
              " 'sorry': 6374,\n",
              " 'few': 2815,\n",
              " 'things': 6890,\n",
              " 'to': 6981,\n",
              " 'do': 2370,\n",
              " 'may': 4421,\n",
              " 'be': 1267,\n",
              " 'pub': 5511,\n",
              " 'later': 4053,\n",
              " 'ill': 3628,\n",
              " 'call': 1603,\n",
              " 'evening': 2654,\n",
              " 'ideas': 3606,\n",
              " 'dear': 2189,\n",
              " 'reache': 5619,\n",
              " 'room': 5854,\n",
              " 'looks': 4225,\n",
              " 'scrumptious': 5992,\n",
              " 'daddy': 2144,\n",
              " 'wants': 7420,\n",
              " 'eat': 2511,\n",
              " 'all': 911,\n",
              " 'night': 4790,\n",
              " 'long': 4217,\n",
              " 'badrith': 1202,\n",
              " 'only': 4962,\n",
              " 'chennai': 1761,\n",
              " 'will': 7561,\n",
              " 'surely': 6666,\n",
              " 'pick': 5227,\n",
              " 'us': 7254,\n",
              " 'competition': 1922,\n",
              " 'him': 3448,\n",
              " 'da': 2139,\n",
              " 'car': 1645,\n",
              " 'park': 5107,\n",
              " 'am': 935,\n",
              " 'okay': 4933,\n",
              " 'soon': 6365,\n",
              " 'over': 5045,\n",
              " 'best': 1318,\n",
              " 'yar': 7716,\n",
              " 'else': 2558,\n",
              " 'll': 4184,\n",
              " 'thk': 6901,\n",
              " 'of': 4908,\n",
              " 'sorts': 6378,\n",
              " 'funny': 3060,\n",
              " 'yup': 7772,\n",
              " 'izzit': 3799,\n",
              " 'raining': 5580,\n",
              " 'heavily': 3398,\n",
              " 'cos': 2013,\n",
              " 'mrt': 4631,\n",
              " 'outside': 5039,\n",
              " 'on': 4951,\n",
              " 'way': 7450,\n",
              " 'ur': 7241,\n",
              " 'that': 6857,\n",
              " 'popped': 5339,\n",
              " 'ask': 1095,\n",
              " 'bout': 1446,\n",
              " 'she': 6108,\n",
              " 'been': 1285,\n",
              " 'around': 1072,\n",
              " 'tonght': 7014,\n",
              " 'wen': 7496,\n",
              " 'this': 6900,\n",
              " 'girl': 3152,\n",
              " 'comes': 1903,\n",
              " 'talk': 6741,\n",
              " 'about': 759,\n",
              " 'its': 3788,\n",
              " 'cool': 1999,\n",
              " 'but': 1575,\n",
              " 'tyler': 7149,\n",
              " 'had': 3304,\n",
              " 'take': 6733,\n",
              " 'off': 4910,\n",
              " 'so': 6326,\n",
              " 're': 5617,\n",
              " 'gonna': 3195,\n",
              " 'buy': 1579,\n",
              " 'drop': 2456,\n",
              " 'at': 1117,\n",
              " 'his': 3454,\n",
              " 'place': 5253,\n",
              " 'tonight': 7016,\n",
              " 'our': 5025,\n",
              " 'total': 7041,\n",
              " 'order': 5000,\n",
              " 'quarter': 5548,\n",
              " 'enough': 2597,\n",
              " 'from': 3030,\n",
              " 'work': 7634,\n",
              " 'timing': 6950,\n",
              " 'westshore': 7511,\n",
              " 'hyde': 3583,\n",
              " 'village': 7334,\n",
              " 'near': 4728,\n",
              " 'house': 3531,\n",
              " 'where': 7525,\n",
              " 'would': 7655,\n",
              " 'here': 3427,\n",
              " 'when': 7522,\n",
              " 'woke': 7614,\n",
              " 'drama': 2433,\n",
              " 'pls': 5282,\n",
              " 'family': 2760,\n",
              " 'while': 7531,\n",
              " 'struggling': 6572,\n",
              " 'hot': 3522,\n",
              " 'sun': 6641,\n",
              " 'strange': 6553,\n",
              " 'reason': 5642,\n",
              " 'why': 7544,\n",
              " 'should': 6158,\n",
              " 'ego': 2537,\n",
              " 'going': 3186,\n",
              " 'invited': 3745,\n",
              " 'actually': 805,\n",
              " 'necessity': 4734,\n",
              " 'go': 3176,\n",
              " 'wait': 7393,\n",
              " 'very': 7313,\n",
              " 'serious': 6060,\n",
              " 'reppurcussions': 5753,\n",
              " 'whats': 7517,\n",
              " 'coming': 1907,\n",
              " 'hill': 3445,\n",
              " 'monster': 4593,\n",
              " 'hope': 3503,\n",
              " 'great': 3250,\n",
              " 'day': 2177,\n",
              " 'fine': 2854,\n",
              " 'busy': 1574,\n",
              " 'though': 6910,\n",
              " 'many': 4370,\n",
              " 'company': 1918,\n",
              " 'tell': 6798,\n",
              " 'language': 4040,\n",
              " 'honey': 3491,\n",
              " 'find': 2851,\n",
              " 'how': 3535,\n",
              " 'much': 4651,\n",
              " 'they': 6885,\n",
              " 'sell': 6036,\n",
              " 'predicte': 5397,\n",
              " 'nigeria': 4788,\n",
              " 'times': 6949,\n",
              " 'used': 7259,\n",
              " 'important': 3649,\n",
              " 'reply': 5749,\n",
              " 'before': 1291,\n",
              " 'monday': 4583,\n",
              " 'aight': 880,\n",
              " 'lemme': 4098,\n",
              " 'know': 3985,\n",
              " 'up': 7226,\n",
              " 'then': 6875,\n",
              " 'todays': 6989,\n",
              " 'plan': 5258,\n",
              " 'ready': 5628,\n",
              " 'moan': 4558,\n",
              " 'scream': 5986,\n",
              " 'right': 5816,\n",
              " 'make': 4346,\n",
              " 'sure': 6665,\n",
              " 'loads': 4191,\n",
              " 'during': 2486,\n",
              " 'really': 5637,\n",
              " 'nasty': 4708,\n",
              " 'cough': 2022,\n",
              " 'today': 6988,\n",
              " 'dry': 2468,\n",
              " 'shot': 6156,\n",
              " 'help': 3413,\n",
              " 'your': 7754,\n",
              " 'mobile': 4560,\n",
              " '11': 270,\n",
              " 'months': 4596,\n",
              " 'more': 4600,\n",
              " 'entitled': 2605,\n",
              " 'update': 7230,\n",
              " 'latest': 4054,\n",
              " 'colour': 1892,\n",
              " 'mobiles': 4561,\n",
              " 'with': 7590,\n",
              " 'camera': 1622,\n",
              " 'co': 1861,\n",
              " '08002986030': 53,\n",
              " 'sky': 6252,\n",
              " 'quite': 5560,\n",
              " 'dark': 2159,\n",
              " 'liao': 4115,\n",
              " 'excuse': 2692,\n",
              " 'run': 5891,\n",
              " 'rite': 5832,\n",
              " 'hee': 3401,\n",
              " 'love': 4250,\n",
              " 'working': 7638,\n",
              " 'sat': 5944,\n",
              " 'wan': 7411,\n",
              " 'watch': 7435,\n",
              " 'infernal': 3692,\n",
              " 'affairs': 842,\n",
              " 'wif': 7551,\n",
              " 'darren': 2164,\n",
              " 'mayb': 4422,\n",
              " 'xy': 7710,\n",
              " 'hello': 3410,\n",
              " 'news': 4774,\n",
              " 'making': 4349,\n",
              " 'fifth': 2826,\n",
              " 'week': 7478,\n",
              " 'im': 3632,\n",
              " 'woozles': 7630,\n",
              " 'weasels': 7462,\n",
              " 'exeter': 2698,\n",
              " 'thanks': 6850,\n",
              " 'subscription': 6605,\n",
              " 'ringtone': 5825,\n",
              " 'uk': 7163,\n",
              " 'charged': 1728,\n",
              " 'month': 4594,\n",
              " 'please': 5275,\n",
              " 'confirm': 1954,\n",
              " 'by': 1589,\n",
              " 'replying': 5750,\n",
              " 'yes': 7735,\n",
              " 'dunno': 2483,\n",
              " 'late': 4051,\n",
              " 'reach': 5618,\n",
              " 'inside': 3711,\n",
              " 'ate': 1118,\n",
              " 'spageddies': 6399,\n",
              " 'lor': 4231,\n",
              " 'gals': 3078,\n",
              " 'who': 7536,\n",
              " 'laughing': 4059,\n",
              " 'gorgeous': 3210,\n",
              " 'keep': 3930,\n",
              " 'those': 6908,\n",
              " 'pix': 5250,\n",
              " 'cumming': 2111,\n",
              " 'thank': 6849,\n",
              " 'did': 2298,\n",
              " 'say': 5960,\n",
              " 'fantastic': 2768,\n",
              " 'any': 991,\n",
              " 'chance': 1715,\n",
              " 'anything': 999,\n",
              " 'need': 4738,\n",
              " 'bigger': 1340,\n",
              " 'life': 4124,\n",
              " 'lift': 4129,\n",
              " 'as': 1085,\n",
              " 'losing': 4236,\n",
              " 'live': 4176,\n",
              " 'think': 6891,\n",
              " 'first': 2869,\n",
              " 'person': 5187,\n",
              " 'die': 2302,\n",
              " 'usual': 7268,\n",
              " 'guy': 3295,\n",
              " 'passed': 5123,\n",
              " 'last': 4049,\n",
              " 'ahold': 876,\n",
              " 'anybody': 992,\n",
              " 'let': 4108,\n",
              " 'throw': 6921,\n",
              " 'down': 2424,\n",
              " 'reassuring': 5646,\n",
              " 'crazy': 2056,\n",
              " 'world': 7641,\n",
              " 'won': 7618,\n",
              " 'nokia': 4819,\n",
              " '7250i': 619,\n",
              " 'win': 7564,\n",
              " 'auction': 1138,\n",
              " 'part': 5110,\n",
              " 'send': 6042,\n",
              " '86021': 689,\n",
              " 'now': 4859,\n",
              " 'hg': 3437,\n",
              " 'suite342': 6630,\n",
              " '2lands': 402,\n",
              " 'row': 5865,\n",
              " 'w1jhl': 7378,\n",
              " '16': 319,\n",
              " 'almost': 920,\n",
              " 'see': 6016,\n",
              " 'sec': 6003,\n",
              " 'unintentionally': 7200,\n",
              " 'bad': 1200,\n",
              " 'fingers': 2856,\n",
              " 'trains': 7060,\n",
              " 'play': 5267,\n",
              " 'along': 922,\n",
              " 'fifteen': 2825,\n",
              " 'min': 4503,\n",
              " 'warning': 7426,\n",
              " 'idea': 3604,\n",
              " 'haf': 3306,\n",
              " 'eaten': 2512,\n",
              " 'wat': 7434,\n",
              " 'time': 6948,\n",
              " 'come': 1901,\n",
              " 'theyre': 6886,\n",
              " 'doing': 2394,\n",
              " 'lots': 4241,\n",
              " 'places': 5256,\n",
              " 'hospitals': 3518,\n",
              " 'medical': 4438,\n",
              " 'safe': 5910,\n",
              " 'fuck': 3039,\n",
              " 'miss': 4527,\n",
              " 'money': 4585,\n",
              " 'towards': 7049,\n",
              " 'net': 4754,\n",
              " 'want': 7416,\n",
              " 'crave': 2054,\n",
              " 'happened': 3338,\n",
              " 'adventuring': 833,\n",
              " 'wow': 7659,\n",
              " 'didn': 2300,\n",
              " 'mean': 4431,\n",
              " 'guess': 3284,\n",
              " 'gave': 3101,\n",
              " 'boston': 1437,\n",
              " 'men': 4463,\n",
              " 'changed': 1718,\n",
              " 'search': 5999,\n",
              " 'location': 4196,\n",
              " 'nyc': 4885,\n",
              " 'cuz': 2133,\n",
              " 'signin': 6198,\n",
              " 'page': 5071,\n",
              " 'says': 5964,\n",
              " 'customer': 2122,\n",
              " 'service': 6064,\n",
              " 'representative': 5754,\n",
              " 'freephone': 2998,\n",
              " '0808': 57,\n",
              " '145': 301,\n",
              " '4742': 512,\n",
              " 'between': 1325,\n",
              " '9am': 738,\n",
              " '11pm': 280,\n",
              " 'guaranteed': 3279,\n",
              " '1000': 258,\n",
              " 'cash': 1671,\n",
              " '5000': 545,\n",
              " 'prize': 5448,\n",
              " 'confirmed': 1956,\n",
              " 'tot': 7040,\n",
              " 'juz': 3904,\n",
              " 'oni': 4958,\n",
              " 'yet': 7738,\n",
              " 'chikku': 1775,\n",
              " 'abt': 764,\n",
              " 'tht': 6928,\n",
              " 'stopped': 6541,\n",
              " 'irritating': 3767,\n",
              " 'msging': 4635,\n",
              " 'horrible': 3515,\n",
              " 'macs': 4320,\n",
              " 'until': 7224,\n",
              " 'forgot': 2956,\n",
              " 'toot': 7023,\n",
              " 'than': 6846,\n",
              " 'b4': 1183,\n",
              " 'prepared': 5409,\n",
              " 'shall': 6094,\n",
              " 'exhausted': 2700,\n",
              " 'train': 7056,\n",
              " 'morning': 4604,\n",
              " 'too': 7020,\n",
              " 'wine': 7571,\n",
              " 'pie': 5234,\n",
              " 'sleep': 6261,\n",
              " 'well': 7493,\n",
              " 'wa': 7382,\n",
              " 'efficient': 2532,\n",
              " 'gee': 3113,\n",
              " 'thanx': 6854,\n",
              " 'ringing': 5823,\n",
              " 'thing': 6889,\n",
              " 'whole': 7538,\n",
              " 'houseful': 3532,\n",
              " 'screaming': 5988,\n",
              " 'brats': 1480,\n",
              " 'pulling': 5516,\n",
              " 'hair': 3311,\n",
              " 'loving': 4260,\n",
              " 'gobi': 3180,\n",
              " 'arts': 1083,\n",
              " 'college': 1890,\n",
              " 'prob': 5453,\n",
              " 'email': 2562,\n",
              " 'account': 784,\n",
              " 'number': 4873,\n",
              " 'probably': 5454,\n",
              " 'smile': 6298,\n",
              " 'hppnss': 3544,\n",
              " 'tear': 6783,\n",
              " 'sorrow': 6373,\n",
              " 'heart': 3394,\n",
              " 'like': 4136,\n",
              " 'mine': 4507,\n",
              " 'wil': 7557,\n",
              " 'care': 1649,\n",
              " 'forevr': 2949,\n",
              " 'goodfriend': 3198,\n",
              " 'masters': 4398,\n",
              " 'oso': 5017,\n",
              " 'boring': 1433,\n",
              " 'happy': 3345,\n",
              " 'birthday': 1357,\n",
              " 'dreams': 2440,\n",
              " 'true': 7093,\n",
              " 'lunch': 4284,\n",
              " 'aft': 852,\n",
              " 'dat': 2167,\n",
              " 'str': 6550,\n",
              " 'orchard': 4999,\n",
              " 'baby': 1194,\n",
              " 'promise': 5476,\n",
              " 'treat': 7076,\n",
              " 'bet': 1320,\n",
              " 'talking': 6745,\n",
              " 'fat': 2778,\n",
              " 'press': 5419,\n",
              " 'these': 6882,\n",
              " 'buttons': 1578,\n",
              " 'doesn': 2383,\n",
              " 'also': 927,\n",
              " 'feel': 2799,\n",
              " 'yesterday': 7737,\n",
              " 'til': 6945,\n",
              " '2day': 389,\n",
              " 'raji': 5585,\n",
              " 'favour': 2789,\n",
              " 'convey': 1990,\n",
              " 'wishes': 7584,\n",
              " 'nimya': 4797,\n",
              " 'her': 3426,\n",
              " 'hey': 3435,\n",
              " 'big': 1339,\n",
              " 'deal': 2186,\n",
              " 'balance': 1210,\n",
              " 'currently': 2115,\n",
              " '500': 544,\n",
              " 'pounds': 5371,\n",
              " 'maximize': 4419,\n",
              " '86688': 692,\n",
              " '150p': 309,\n",
              " 'msg': 4633,\n",
              " 'cc': 1688,\n",
              " '08718720201': 135,\n",
              " 'w1j6hl': 7377,\n",
              " '8th': 721,\n",
              " 'campus': 1623,\n",
              " 'atm': 1123,\n",
              " 'could': 2024,\n",
              " 'hour': 3528,\n",
              " 'two': 7135,\n",
              " 'oops': 4971,\n",
              " 'shower': 6166,\n",
              " 'called': 1609,\n",
              " 'parking': 5109,\n",
              " 'garage': 3089,\n",
              " 'collapsed': 1883,\n",
              " 'university': 7205,\n",
              " 'hospital': 3517,\n",
              " 'stuff': 6583,\n",
              " 'does': 2381,\n",
              " 'happen': 3336,\n",
              " 'quick': 5556,\n",
              " 'question': 5553,\n",
              " 'lol': 4210,\n",
              " 'knew': 3981,\n",
              " 'saw': 5959,\n",
              " 'dollar': 2398,\n",
              " 'store': 6545,\n",
              " 'empty': 2574,\n",
              " 'without': 7594,\n",
              " 'wisdom': 7581,\n",
              " 'eyes': 2732,\n",
              " 'amp': 950,\n",
              " 'frnds': 3022,\n",
              " 'alwys': 934,\n",
              " 'touch': 7044,\n",
              " 'sweet': 6695,\n",
              " 'ball': 1211,\n",
              " 'moving': 4626,\n",
              " 'lot': 4239,\n",
              " 'spin': 6430,\n",
              " 'difficult': 2312,\n",
              " 'bat': 1241,\n",
              " 'yo': 7747,\n",
              " 'stock': 6526,\n",
              " 'tomorrow': 7007,\n",
              " 'trying': 7101,\n",
              " 'dubsack': 2472,\n",
              " 'hows': 3540,\n",
              " 'champ': 1712,\n",
              " 'leaving': 4086,\n",
              " 'glasgow': 3164,\n",
              " 'yours': 7758,\n",
              " 'mins': 4516,\n",
              " 'look': 4220,\n",
              " 'purity': 5528,\n",
              " 'friendship': 3015,\n",
              " 'smiling': 6301,\n",
              " 'after': 853,\n",
              " 'reading': 5627,\n",
              " 'forwarded': 2970,\n",
              " 'message': 4474,\n",
              " 'seeing': 6018,\n",
              " 'name': 4698,\n",
              " 'gud': 3281,\n",
              " 'evng': 2676,\n",
              " 'musthu': 4674,\n",
              " 'enjoy': 2592,\n",
              " 'sitting': 6235,\n",
              " 'mu': 4649,\n",
              " 'waiting': 7396,\n",
              " 'everyone': 2665,\n",
              " 'suite': 6629,\n",
              " 'vijay': 7329,\n",
              " 'film': 2841,\n",
              " 'different': 2311,\n",
              " 'borderline': 1430,\n",
              " 'whatever': 7516,\n",
              " 'bored': 1431,\n",
              " 'inever': 3690,\n",
              " 'thought': 6911,\n",
              " 'id': 3603,\n",
              " 'tv': 7125,\n",
              " 'exciting': 2691,\n",
              " 'has': 3355,\n",
              " 'sorting': 6377,\n",
              " 'narcotics': 4705,\n",
              " 'situation': 6236,\n",
              " 'bought': 1444,\n",
              " 'eggs': 2536,\n",
              " 'pm': 5290,\n",
              " 'show': 6164,\n",
              " 'haha': 3307,\n",
              " 'heard': 3392,\n",
              " 'text': 6832,\n",
              " 'god': 3181,\n",
              " 'created': 2060,\n",
              " 'gap': 3087,\n",
              " 'btwn': 1540,\n",
              " 'sum1': 6635,\n",
              " 'vry': 7368,\n",
              " 'special': 6409,\n",
              " 'fill': 2837,\n",
              " 'gaps': 3088,\n",
              " 'holding': 3479,\n",
              " 'hands': 3325,\n",
              " 'plz': 5289,\n",
              " 'dont': 2406,\n",
              " 'legs': 4094,\n",
              " 'lt': 4273,\n",
              " 'gt': 3276,\n",
              " 'bus': 1568,\n",
              " 'sad': 5907,\n",
              " 'puppy': 5524,\n",
              " 'noise': 4816,\n",
              " 'covers': 2039,\n",
              " 'face': 2737,\n",
              " 'kisses': 3974,\n",
              " 'project': 5472,\n",
              " 'pa': 5064,\n",
              " 'small': 6286,\n",
              " 'kid': 3954,\n",
              " 'boost': 1427,\n",
              " 'secret': 6007,\n",
              " 'energy': 2584,\n",
              " 'yun': 7768,\n",
              " 'ah': 871,\n",
              " 'wkg': 7602,\n",
              " 'btw': 1539,\n",
              " 'nus': 4877,\n",
              " 'sc': 5966,\n",
              " 'wana': 7413,\n",
              " 'specialise': 6412,\n",
              " 'wad': 7385,\n",
              " 'girls': 3155,\n",
              " 'office': 4919,\n",
              " 'wonder': 7621,\n",
              " 'sore': 6372,\n",
              " 'derp': 2256,\n",
              " 'which': 7530,\n",
              " 'worse': 7648,\n",
              " 'dude': 2475,\n",
              " 'always': 933,\n",
              " 'party': 5118,\n",
              " 'files': 2836,\n",
              " 'complaint': 1926,\n",
              " 'three': 6916,\n",
              " 'drug': 2461,\n",
              " 'abusers': 767,\n",
              " 'lives': 4180,\n",
              " 'sef': 6025,\n",
              " 'dey': 2283,\n",
              " 'laugh': 4057,\n",
              " 'meanwhile': 4435,\n",
              " 'darling': 2162,\n",
              " 'anjie': 970,\n",
              " 'password': 5128,\n",
              " 'uncle': 7176,\n",
              " 'abbey': 751,\n",
              " 'new': 4769,\n",
              " 'year': 7724,\n",
              " 'abiola': 756,\n",
              " 'march': 4376,\n",
              " 'ending': 2579,\n",
              " 'problem': 5455,\n",
              " 'capital': 1640,\n",
              " 'never': 4765,\n",
              " 'complete': 1928,\n",
              " 'far': 2770,\n",
              " 'ladies': 4021,\n",
              " 'arrange': 1075,\n",
              " 'boy': 1466,\n",
              " 'loved': 4251,\n",
              " 'gal': 3076,\n",
              " 'propsd': 5489,\n",
              " 'bt': 1537,\n",
              " 'didnt': 2301,\n",
              " 'gv': 3297,\n",
              " 'lv': 4292,\n",
              " 'lttrs': 4275,\n",
              " 'threw': 6917,\n",
              " 'thm': 6903,\n",
              " 'again': 860,\n",
              " 'decided': 2200,\n",
              " 'aproach': 1039,\n",
              " 'dt': 2470,\n",
              " 'truck': 7092,\n",
              " 'speeding': 6419,\n",
              " 'wn': 7608,\n",
              " 'hit': 3456,\n",
              " 'ran': 5593,\n",
              " 'hell': 3408,\n",
              " 'saved': 5957,\n",
              " 'asked': 1097,\n",
              " 'hw': 3582,\n",
              " 'cn': 1857,\n",
              " 'fast': 2775,\n",
              " 'replied': 5747,\n",
              " 'instantly': 3716,\n",
              " 'shouted': 6160,\n",
              " 'thy': 6934,\n",
              " 'lived': 4177,\n",
              " 'happily': 3343,\n",
              " '2gthr': 398,\n",
              " 'drinking': 2447,\n",
              " 'evrydy': 2680,\n",
              " 'moral': 4599,\n",
              " 'story': 6549,\n",
              " 'hv': 3579,\n",
              " 'msgs': 4639,\n",
              " 'ni8': 4780,\n",
              " 'nice': 4782,\n",
              " 'immediately': 3643,\n",
              " 'lesson': 4106,\n",
              " 'blank': 1373,\n",
              " 'finish': 2857,\n",
              " 'wrk': 7667,\n",
              " 'fancy': 2765,\n",
              " 'meetin': 4443,\n",
              " 'wiv': 7597,\n",
              " 'tonite': 7018,\n",
              " 'break': 1487,\n",
              " 'dabooks': 2142,\n",
              " 'hrs': 3547,\n",
              " 'nite': 4802,\n",
              " 'nor': 4832,\n",
              " 'mid': 4488,\n",
              " 'onum': 4965,\n",
              " 'ela': 2546,\n",
              " 'normal': 4838,\n",
              " 'fb': 2791,\n",
              " 'couple': 2031,\n",
              " 'minutes': 4520,\n",
              " 'dun': 2481,\n",
              " 'rem': 5713,\n",
              " 'silver': 6205,\n",
              " 'black': 1367,\n",
              " 'one': 4956,\n",
              " 'set': 6068,\n",
              " 'soul': 6382,\n",
              " 'fire': 2863,\n",
              " 'spark': 6405,\n",
              " 'flame': 2884,\n",
              " 'rawring': 5607,\n",
              " 'xoxo': 7698,\n",
              " 'hella': 3409,\n",
              " 'gas': 3096,\n",
              " 'grand': 3235,\n",
              " 'nature': 4718,\n",
              " 'adventure': 832,\n",
              " 'galileo': 3077,\n",
              " 'little': 4175,\n",
              " 'okie': 4936,\n",
              " 'back': 1199,\n",
              " 'exactly': 2684,\n",
              " 'anyways': 1003,\n",
              " 'jide': 3847,\n",
              " 'study': 6580,\n",
              " 'visiting': 7345,\n",
              " 'hui': 3558,\n",
              " 'xin': 7696,\n",
              " 'lib': 4116,\n",
              " 'jamster': 3810,\n",
              " 'wallpaper': 7407,\n",
              " '88888': 710,\n",
              " 'apply': 1022,\n",
              " '08701213186': 71,\n",
              " 'either': 2544,\n",
              " 'anyplaces': 997,\n",
              " 'boytoy': 1471,\n",
              " 'geeee': 3114,\n",
              " 'wish': 7583,\n",
              " 'bed': 1282,\n",
              " 'cuddling': 2105,\n",
              " 'boo': 1417,\n",
              " 'moms': 4581,\n",
              " 'tortilla': 7036,\n",
              " 'soup': 6387,\n",
              " 'yummmm': 7766,\n",
              " 'lasagna': 4048,\n",
              " 'vodka': 7356,\n",
              " 'u4': 7155,\n",
              " 'knickers': 3982,\n",
              " 'beg': 1292,\n",
              " '01223585236': 6,\n",
              " 'xx': 7701,\n",
              " 'luv': 4287,\n",
              " 'nikiyu4': 4795,\n",
              " 'others': 5020,\n",
              " 'goodmorning': 3201,\n",
              " '1hr': 335,\n",
              " 'even': 2653,\n",
              " 'dan': 2149,\n",
              " 'reminded': 5723,\n",
              " 'guys': 3296,\n",
              " 'fun': 3052,\n",
              " 'teacher': 6778,\n",
              " 'longer': 4218,\n",
              " 'cut': 2126,\n",
              " 'short': 6149,\n",
              " 'forwarding': 2971,\n",
              " 'proof': 5483,\n",
              " 'missing': 4531,\n",
              " 'sender': 6043,\n",
              " 'sent': 6052,\n",
              " 'date': 2169,\n",
              " 'thats': 6860,\n",
              " 'everything': 2669,\n",
              " 'via': 7316,\n",
              " 'fullonsms': 3050,\n",
              " 'com': 1895,\n",
              " 'gudnite': 3283,\n",
              " 'tc': 6772,\n",
              " 'practice': 5385,\n",
              " 'class': 1820,\n",
              " 'bsn': 1534,\n",
              " 'advising': 836,\n",
              " 'massages': 4395,\n",
              " 'use': 7258,\n",
              " 'oil': 4930,\n",
              " 'fave': 2786,\n",
              " 'position': 5350,\n",
              " 'bitch': 1360,\n",
              " 'motorola': 4616,\n",
              " 'upto': 7240,\n",
              " '12mths': 292,\n",
              " '2price': 418,\n",
              " 'linerental': 4151,\n",
              " '100txt': 262,\n",
              " 'mth': 4643,\n",
              " 'tooth': 7024,\n",
              " 'mobileupd8': 4564,\n",
              " '08001950382': 51,\n",
              " '2optout': 416,\n",
              " 'd3wv': 2138,\n",
              " 'oic': 4929,\n",
              " 'better': 1323,\n",
              " 'quickly': 5557,\n",
              " 'bathe': 1245,\n",
              " 'settle': 6071,\n",
              " 'book': 1419,\n",
              " 'sth': 6520,\n",
              " 'specs': 6415,\n",
              " 'membership': 4459,\n",
              " 'px3748': 5540,\n",
              " 'charles': 1731,\n",
              " 'makes': 4347,\n",
              " 'people': 5167,\n",
              " 'dearer': 2191,\n",
              " 'de': 2184,\n",
              " 'happiness': 3344,\n",
              " 'meet': 4442,\n",
              " 'them': 6871,\n",
              " 'pain': 5075,\n",
              " 'dem': 2236,\n",
              " '2hrs': 400,\n",
              " 'because': 1277,\n",
              " 'jay': 3821,\n",
              " 'sort': 6375,\n",
              " 'fucking': 3042,\n",
              " 'retard': 5793,\n",
              " 'karnan': 3920,\n",
              " 'till': 6946,\n",
              " '6pm': 612,\n",
              " 'directly': 2331,\n",
              " 'goto': 3218,\n",
              " 'doctor': 2376,\n",
              " 'congrats': 1960,\n",
              " 'pending': 5164,\n",
              " 'mail': 4339,\n",
              " 'days': 2178,\n",
              " 'thru': 6926,\n",
              " 'respect': 5772,\n",
              " 'mother': 4611,\n",
              " 'check': 1748,\n",
              " 'mails': 4342,\n",
              " 'audiitions': 1139,\n",
              " 'relocate': 5712,\n",
              " 'staying': 6503,\n",
              " 'town': 7050,\n",
              " 'sometimes': 6353,\n",
              " 'remembrs': 5721,\n",
              " 'someone': 6345,\n",
              " 'forgets': 2952,\n",
              " 'bcoz': 1262,\n",
              " 'liked': 4137,\n",
              " 'ones': 4957,\n",
              " 'remembered': 5718,\n",
              " 'everytime': 2670,\n",
              " 'bslvyl': 1533,\n",
              " 'getting': 3139,\n",
              " 'anywhere': 1004,\n",
              " 'damn': 2148,\n",
              " 'hunting': 3568,\n",
              " 'needs': 4742,\n",
              " 'beautiful': 1274,\n",
              " 'intelligent': 3721,\n",
              " 'caring': 1657,\n",
              " 'adjustable': 817,\n",
              " 'cooperative': 2001,\n",
              " 'wife': 7552,\n",
              " 'law': 4064,\n",
              " 'allows': 919,\n",
              " 'wonderful': 7622,\n",
              " 'okors': 4939,\n",
              " 'cherish': 1763,\n",
              " 'each': 2494,\n",
              " 'mojibiola': 4575,\n",
              " 'six': 6239,\n",
              " 'chances': 1716,\n",
              " '100': 257,\n",
              " '20': 349,\n",
              " '000': 1,\n",
              " 'txt': 7137,\n",
              " 'csh11': 2089,\n",
              " '87575': 702,\n",
              " 'cost': 2015,\n",
              " '6days': 606,\n",
              " 'tsandcs': 7103,\n",
              " 'hl': 3461,\n",
              " 'info': 3693,\n",
              " 'register': 5698,\n",
              " 'anyway': 1002,\n",
              " 'most': 4609,\n",
              " 'happiest': 3342,\n",
              " 'same': 5930,\n",
              " 'characters': 1726,\n",
              " 'understanding': 7186,\n",
              " 'their': 6868,\n",
              " 'differences': 2310,\n",
              " 'full': 3049,\n",
              " 'joke': 3863,\n",
              " 'school': 5973,\n",
              " 'fees': 2805,\n",
              " 'florida': 2905,\n",
              " 'seem': 6021,\n",
              " 'holla': 3481,\n",
              " 'friends': 3013,\n",
              " 'valentines': 7282,\n",
              " 'url': 7250,\n",
              " 'havent': 3372,\n",
              " 'blur': 1402,\n",
              " 'dad': 2143,\n",
              " 'went': 7499,\n",
              " 'cant': 1636,\n",
              " 'cum': 2109,\n",
              " 'thinking': 6894,\n",
              " 'chuckin': 1806,\n",
              " 'red': 5675,\n",
              " 'green': 3254,\n",
              " 'trainners': 7059,\n",
              " 'save': 5956,\n",
              " 'carryin': 1666,\n",
              " 'bac': 1198,\n",
              " 'boss': 1436,\n",
              " 'told': 6996,\n",
              " 'fixed': 2877,\n",
              " 'cheaper': 1744,\n",
              " 'kept': 3937,\n",
              " 'telling': 6799,\n",
              " 'hoped': 3504,\n",
              " 'regretted': 5702,\n",
              " 'etc': 2643,\n",
              " 'buff': 1548,\n",
              " 'wind': 7566,\n",
              " 'calls': 1616,\n",
              " 'messages': 4476,\n",
              " 'missed': 4529,\n",
              " 'sexy': 6079,\n",
              " 'singles': 6220,\n",
              " 'age': 862,\n",
              " 'followed': 2925,\n",
              " 'gender': 3117,\n",
              " 'wither': 7592,\n",
              " '23f': 367,\n",
              " 'gay': 3102,\n",
              " ...}"
            ]
          },
          "metadata": {},
          "execution_count": 193
        }
      ]
    },
    {
      "cell_type": "code",
      "source": [
        "x_train_np=x_train_cv.toarray()"
      ],
      "metadata": {
        "id": "mMDYjhxTLfHp"
      },
      "execution_count": 205,
      "outputs": []
    },
    {
      "cell_type": "code",
      "source": [
        "x_train_np[:4]"
      ],
      "metadata": {
        "id": "oWD4uRrHL0GR",
        "outputId": "1005ce82-3f2c-4f36-e4f9-9f12b07d50b3",
        "colab": {
          "base_uri": "https://localhost:8080/"
        }
      },
      "execution_count": 196,
      "outputs": [
        {
          "output_type": "execute_result",
          "data": {
            "text/plain": [
              "array([[0, 0, 0, ..., 0, 0, 0],\n",
              "       [0, 0, 0, ..., 0, 0, 0],\n",
              "       [0, 0, 0, ..., 0, 0, 0],\n",
              "       [0, 0, 0, ..., 0, 0, 0]])"
            ]
          },
          "metadata": {},
          "execution_count": 196
        }
      ]
    },
    {
      "cell_type": "code",
      "source": [
        "np.where(x_train_np[0]!=0)"
      ],
      "metadata": {
        "id": "qUssOmE2Mkfi",
        "outputId": "d2ba8417-b3ac-4fb0-b50b-690df2468343",
        "colab": {
          "base_uri": "https://localhost:8080/"
        }
      },
      "execution_count": 206,
      "outputs": [
        {
          "output_type": "execute_result",
          "data": {
            "text/plain": [
              "(array([ 957, 2943, 3196, 3529, 3615, 3661, 3769, 3781, 4084, 4623, 4809,\n",
              "        4932, 6861]),)"
            ]
          },
          "metadata": {},
          "execution_count": 206
        }
      ]
    },
    {
      "cell_type": "code",
      "source": [
        "x_train_np[0][2943]"
      ],
      "metadata": {
        "id": "Bc9deZcuMt5_",
        "outputId": "d066a166-5abd-429f-9f2b-1f23433b25ec",
        "colab": {
          "base_uri": "https://localhost:8080/"
        }
      },
      "execution_count": 200,
      "outputs": [
        {
          "output_type": "execute_result",
          "data": {
            "text/plain": [
              "1"
            ]
          },
          "metadata": {},
          "execution_count": 200
        }
      ]
    },
    {
      "cell_type": "code",
      "source": [
        "from sklearn.naive_bayes import MultinomialNB"
      ],
      "metadata": {
        "id": "0GMJYoWRM-r4"
      },
      "execution_count": 202,
      "outputs": []
    },
    {
      "cell_type": "code",
      "source": [
        "model=MultinomialNB()\n",
        "model.fit(x_train_cv,y_train)"
      ],
      "metadata": {
        "id": "qJ77AOvbNcSF",
        "outputId": "49923cb6-d19d-4711-9b5a-f2ddb3ccfaca",
        "colab": {
          "base_uri": "https://localhost:8080/",
          "height": 74
        }
      },
      "execution_count": 203,
      "outputs": [
        {
          "output_type": "execute_result",
          "data": {
            "text/plain": [
              "MultinomialNB()"
            ],
            "text/html": [
              "<style>#sk-container-id-1 {color: black;background-color: white;}#sk-container-id-1 pre{padding: 0;}#sk-container-id-1 div.sk-toggleable {background-color: white;}#sk-container-id-1 label.sk-toggleable__label {cursor: pointer;display: block;width: 100%;margin-bottom: 0;padding: 0.3em;box-sizing: border-box;text-align: center;}#sk-container-id-1 label.sk-toggleable__label-arrow:before {content: \"▸\";float: left;margin-right: 0.25em;color: #696969;}#sk-container-id-1 label.sk-toggleable__label-arrow:hover:before {color: black;}#sk-container-id-1 div.sk-estimator:hover label.sk-toggleable__label-arrow:before {color: black;}#sk-container-id-1 div.sk-toggleable__content {max-height: 0;max-width: 0;overflow: hidden;text-align: left;background-color: #f0f8ff;}#sk-container-id-1 div.sk-toggleable__content pre {margin: 0.2em;color: black;border-radius: 0.25em;background-color: #f0f8ff;}#sk-container-id-1 input.sk-toggleable__control:checked~div.sk-toggleable__content {max-height: 200px;max-width: 100%;overflow: auto;}#sk-container-id-1 input.sk-toggleable__control:checked~label.sk-toggleable__label-arrow:before {content: \"▾\";}#sk-container-id-1 div.sk-estimator input.sk-toggleable__control:checked~label.sk-toggleable__label {background-color: #d4ebff;}#sk-container-id-1 div.sk-label input.sk-toggleable__control:checked~label.sk-toggleable__label {background-color: #d4ebff;}#sk-container-id-1 input.sk-hidden--visually {border: 0;clip: rect(1px 1px 1px 1px);clip: rect(1px, 1px, 1px, 1px);height: 1px;margin: -1px;overflow: hidden;padding: 0;position: absolute;width: 1px;}#sk-container-id-1 div.sk-estimator {font-family: monospace;background-color: #f0f8ff;border: 1px dotted black;border-radius: 0.25em;box-sizing: border-box;margin-bottom: 0.5em;}#sk-container-id-1 div.sk-estimator:hover {background-color: #d4ebff;}#sk-container-id-1 div.sk-parallel-item::after {content: \"\";width: 100%;border-bottom: 1px solid gray;flex-grow: 1;}#sk-container-id-1 div.sk-label:hover label.sk-toggleable__label {background-color: #d4ebff;}#sk-container-id-1 div.sk-serial::before {content: \"\";position: absolute;border-left: 1px solid gray;box-sizing: border-box;top: 0;bottom: 0;left: 50%;z-index: 0;}#sk-container-id-1 div.sk-serial {display: flex;flex-direction: column;align-items: center;background-color: white;padding-right: 0.2em;padding-left: 0.2em;position: relative;}#sk-container-id-1 div.sk-item {position: relative;z-index: 1;}#sk-container-id-1 div.sk-parallel {display: flex;align-items: stretch;justify-content: center;background-color: white;position: relative;}#sk-container-id-1 div.sk-item::before, #sk-container-id-1 div.sk-parallel-item::before {content: \"\";position: absolute;border-left: 1px solid gray;box-sizing: border-box;top: 0;bottom: 0;left: 50%;z-index: -1;}#sk-container-id-1 div.sk-parallel-item {display: flex;flex-direction: column;z-index: 1;position: relative;background-color: white;}#sk-container-id-1 div.sk-parallel-item:first-child::after {align-self: flex-end;width: 50%;}#sk-container-id-1 div.sk-parallel-item:last-child::after {align-self: flex-start;width: 50%;}#sk-container-id-1 div.sk-parallel-item:only-child::after {width: 0;}#sk-container-id-1 div.sk-dashed-wrapped {border: 1px dashed gray;margin: 0 0.4em 0.5em 0.4em;box-sizing: border-box;padding-bottom: 0.4em;background-color: white;}#sk-container-id-1 div.sk-label label {font-family: monospace;font-weight: bold;display: inline-block;line-height: 1.2em;}#sk-container-id-1 div.sk-label-container {text-align: center;}#sk-container-id-1 div.sk-container {/* jupyter's `normalize.less` sets `[hidden] { display: none; }` but bootstrap.min.css set `[hidden] { display: none !important; }` so we also need the `!important` here to be able to override the default hidden behavior on the sphinx rendered scikit-learn.org. See: https://github.com/scikit-learn/scikit-learn/issues/21755 */display: inline-block !important;position: relative;}#sk-container-id-1 div.sk-text-repr-fallback {display: none;}</style><div id=\"sk-container-id-1\" class=\"sk-top-container\"><div class=\"sk-text-repr-fallback\"><pre>MultinomialNB()</pre><b>In a Jupyter environment, please rerun this cell to show the HTML representation or trust the notebook. <br />On GitHub, the HTML representation is unable to render, please try loading this page with nbviewer.org.</b></div><div class=\"sk-container\" hidden><div class=\"sk-item\"><div class=\"sk-estimator sk-toggleable\"><input class=\"sk-toggleable__control sk-hidden--visually\" id=\"sk-estimator-id-1\" type=\"checkbox\" checked><label for=\"sk-estimator-id-1\" class=\"sk-toggleable__label sk-toggleable__label-arrow\">MultinomialNB</label><div class=\"sk-toggleable__content\"><pre>MultinomialNB()</pre></div></div></div></div></div>"
            ]
          },
          "metadata": {},
          "execution_count": 203
        }
      ]
    },
    {
      "cell_type": "code",
      "source": [
        "x_test_cv=v.transform(x_test)"
      ],
      "metadata": {
        "id": "rHoxrAmyNlhh"
      },
      "execution_count": 207,
      "outputs": []
    },
    {
      "cell_type": "code",
      "source": [
        "from sklearn.metrics import classification_report"
      ],
      "metadata": {
        "id": "yP2pt0XjN46m"
      },
      "execution_count": 208,
      "outputs": []
    },
    {
      "cell_type": "code",
      "source": [
        "y_pred=model.predict(x_test_cv)\n",
        "print(classification_report(y_test,y_pred))"
      ],
      "metadata": {
        "id": "p4DHmfSKN-6T",
        "outputId": "74b554fc-9910-40ef-e171-7ef6ca75aa61",
        "colab": {
          "base_uri": "https://localhost:8080/"
        }
      },
      "execution_count": 211,
      "outputs": [
        {
          "output_type": "stream",
          "name": "stdout",
          "text": [
            "              precision    recall  f1-score   support\n",
            "\n",
            "           0       0.99      1.00      0.99       955\n",
            "           1       0.98      0.93      0.95       160\n",
            "\n",
            "    accuracy                           0.99      1115\n",
            "   macro avg       0.98      0.96      0.97      1115\n",
            "weighted avg       0.99      0.99      0.99      1115\n",
            "\n"
          ]
        }
      ]
    },
    {
      "cell_type": "code",
      "source": [
        "# Text Representation using bag of n-grams\n",
        "from sklearn.feature_extraction.text import CountVectorizer"
      ],
      "metadata": {
        "id": "B8iUq2duWYFM"
      },
      "execution_count": 224,
      "outputs": []
    },
    {
      "cell_type": "code",
      "source": [
        "v=CountVectorizer(ngram_range=(1,3))\n",
        "v.fit(['Thor Hathodwala is looking for a job'])\n",
        "v.vocabulary_"
      ],
      "metadata": {
        "id": "vlWu78WDWndR",
        "outputId": "e56cac66-7b7a-4e60-eb93-5945eaafbbea",
        "colab": {
          "base_uri": "https://localhost:8080/"
        }
      },
      "execution_count": 227,
      "outputs": [
        {
          "output_type": "execute_result",
          "data": {
            "text/plain": [
              "{'thor': 12,\n",
              " 'hathodwala': 2,\n",
              " 'is': 5,\n",
              " 'looking': 9,\n",
              " 'for': 0,\n",
              " 'job': 8,\n",
              " 'thor hathodwala': 13,\n",
              " 'hathodwala is': 3,\n",
              " 'is looking': 6,\n",
              " 'looking for': 10,\n",
              " 'for job': 1,\n",
              " 'thor hathodwala is': 14,\n",
              " 'hathodwala is looking': 4,\n",
              " 'is looking for': 7,\n",
              " 'looking for job': 11}"
            ]
          },
          "metadata": {},
          "execution_count": 227
        }
      ]
    },
    {
      "cell_type": "code",
      "source": [
        "# Word Vectors\n",
        "import spacy"
      ],
      "metadata": {
        "id": "40FwQM17XAv7"
      },
      "execution_count": 230,
      "outputs": []
    },
    {
      "cell_type": "code",
      "source": [
        "!python -m spacy download en_core_web_lg"
      ],
      "metadata": {
        "id": "nFdRnOEDYa4n",
        "outputId": "12382a49-e614-422c-a7bd-402be286549d",
        "colab": {
          "base_uri": "https://localhost:8080/"
        }
      },
      "execution_count": 231,
      "outputs": [
        {
          "output_type": "stream",
          "name": "stdout",
          "text": [
            "Collecting en-core-web-lg==3.7.1\n",
            "  Downloading https://github.com/explosion/spacy-models/releases/download/en_core_web_lg-3.7.1/en_core_web_lg-3.7.1-py3-none-any.whl (587.7 MB)\n",
            "\u001b[2K     \u001b[90m━━━━━━━━━━━━━━━━━━━━━━━━━━━━━━━━━━━━━━━━\u001b[0m \u001b[32m587.7/587.7 MB\u001b[0m \u001b[31m2.4 MB/s\u001b[0m eta \u001b[36m0:00:00\u001b[0m\n",
            "\u001b[?25hRequirement already satisfied: spacy<3.8.0,>=3.7.2 in /usr/local/lib/python3.10/dist-packages (from en-core-web-lg==3.7.1) (3.7.4)\n",
            "Requirement already satisfied: spacy-legacy<3.1.0,>=3.0.11 in /usr/local/lib/python3.10/dist-packages (from spacy<3.8.0,>=3.7.2->en-core-web-lg==3.7.1) (3.0.12)\n",
            "Requirement already satisfied: spacy-loggers<2.0.0,>=1.0.0 in /usr/local/lib/python3.10/dist-packages (from spacy<3.8.0,>=3.7.2->en-core-web-lg==3.7.1) (1.0.5)\n",
            "Requirement already satisfied: murmurhash<1.1.0,>=0.28.0 in /usr/local/lib/python3.10/dist-packages (from spacy<3.8.0,>=3.7.2->en-core-web-lg==3.7.1) (1.0.10)\n",
            "Requirement already satisfied: cymem<2.1.0,>=2.0.2 in /usr/local/lib/python3.10/dist-packages (from spacy<3.8.0,>=3.7.2->en-core-web-lg==3.7.1) (2.0.8)\n",
            "Requirement already satisfied: preshed<3.1.0,>=3.0.2 in /usr/local/lib/python3.10/dist-packages (from spacy<3.8.0,>=3.7.2->en-core-web-lg==3.7.1) (3.0.9)\n",
            "Requirement already satisfied: thinc<8.3.0,>=8.2.2 in /usr/local/lib/python3.10/dist-packages (from spacy<3.8.0,>=3.7.2->en-core-web-lg==3.7.1) (8.2.3)\n",
            "Requirement already satisfied: wasabi<1.2.0,>=0.9.1 in /usr/local/lib/python3.10/dist-packages (from spacy<3.8.0,>=3.7.2->en-core-web-lg==3.7.1) (1.1.2)\n",
            "Requirement already satisfied: srsly<3.0.0,>=2.4.3 in /usr/local/lib/python3.10/dist-packages (from spacy<3.8.0,>=3.7.2->en-core-web-lg==3.7.1) (2.4.8)\n",
            "Requirement already satisfied: catalogue<2.1.0,>=2.0.6 in /usr/local/lib/python3.10/dist-packages (from spacy<3.8.0,>=3.7.2->en-core-web-lg==3.7.1) (2.0.10)\n",
            "Requirement already satisfied: weasel<0.4.0,>=0.1.0 in /usr/local/lib/python3.10/dist-packages (from spacy<3.8.0,>=3.7.2->en-core-web-lg==3.7.1) (0.3.4)\n",
            "Requirement already satisfied: typer<0.10.0,>=0.3.0 in /usr/local/lib/python3.10/dist-packages (from spacy<3.8.0,>=3.7.2->en-core-web-lg==3.7.1) (0.9.4)\n",
            "Requirement already satisfied: smart-open<7.0.0,>=5.2.1 in /usr/local/lib/python3.10/dist-packages (from spacy<3.8.0,>=3.7.2->en-core-web-lg==3.7.1) (6.4.0)\n",
            "Requirement already satisfied: tqdm<5.0.0,>=4.38.0 in /usr/local/lib/python3.10/dist-packages (from spacy<3.8.0,>=3.7.2->en-core-web-lg==3.7.1) (4.66.2)\n",
            "Requirement already satisfied: requests<3.0.0,>=2.13.0 in /usr/local/lib/python3.10/dist-packages (from spacy<3.8.0,>=3.7.2->en-core-web-lg==3.7.1) (2.31.0)\n",
            "Requirement already satisfied: pydantic!=1.8,!=1.8.1,<3.0.0,>=1.7.4 in /usr/local/lib/python3.10/dist-packages (from spacy<3.8.0,>=3.7.2->en-core-web-lg==3.7.1) (2.7.0)\n",
            "Requirement already satisfied: jinja2 in /usr/local/lib/python3.10/dist-packages (from spacy<3.8.0,>=3.7.2->en-core-web-lg==3.7.1) (3.1.3)\n",
            "Requirement already satisfied: setuptools in /usr/local/lib/python3.10/dist-packages (from spacy<3.8.0,>=3.7.2->en-core-web-lg==3.7.1) (67.7.2)\n",
            "Requirement already satisfied: packaging>=20.0 in /usr/local/lib/python3.10/dist-packages (from spacy<3.8.0,>=3.7.2->en-core-web-lg==3.7.1) (24.0)\n",
            "Requirement already satisfied: langcodes<4.0.0,>=3.2.0 in /usr/local/lib/python3.10/dist-packages (from spacy<3.8.0,>=3.7.2->en-core-web-lg==3.7.1) (3.3.0)\n",
            "Requirement already satisfied: numpy>=1.19.0 in /usr/local/lib/python3.10/dist-packages (from spacy<3.8.0,>=3.7.2->en-core-web-lg==3.7.1) (1.25.2)\n",
            "Requirement already satisfied: annotated-types>=0.4.0 in /usr/local/lib/python3.10/dist-packages (from pydantic!=1.8,!=1.8.1,<3.0.0,>=1.7.4->spacy<3.8.0,>=3.7.2->en-core-web-lg==3.7.1) (0.6.0)\n",
            "Requirement already satisfied: pydantic-core==2.18.1 in /usr/local/lib/python3.10/dist-packages (from pydantic!=1.8,!=1.8.1,<3.0.0,>=1.7.4->spacy<3.8.0,>=3.7.2->en-core-web-lg==3.7.1) (2.18.1)\n",
            "Requirement already satisfied: typing-extensions>=4.6.1 in /usr/local/lib/python3.10/dist-packages (from pydantic!=1.8,!=1.8.1,<3.0.0,>=1.7.4->spacy<3.8.0,>=3.7.2->en-core-web-lg==3.7.1) (4.11.0)\n",
            "Requirement already satisfied: charset-normalizer<4,>=2 in /usr/local/lib/python3.10/dist-packages (from requests<3.0.0,>=2.13.0->spacy<3.8.0,>=3.7.2->en-core-web-lg==3.7.1) (3.3.2)\n",
            "Requirement already satisfied: idna<4,>=2.5 in /usr/local/lib/python3.10/dist-packages (from requests<3.0.0,>=2.13.0->spacy<3.8.0,>=3.7.2->en-core-web-lg==3.7.1) (3.7)\n",
            "Requirement already satisfied: urllib3<3,>=1.21.1 in /usr/local/lib/python3.10/dist-packages (from requests<3.0.0,>=2.13.0->spacy<3.8.0,>=3.7.2->en-core-web-lg==3.7.1) (2.0.7)\n",
            "Requirement already satisfied: certifi>=2017.4.17 in /usr/local/lib/python3.10/dist-packages (from requests<3.0.0,>=2.13.0->spacy<3.8.0,>=3.7.2->en-core-web-lg==3.7.1) (2024.2.2)\n",
            "Requirement already satisfied: blis<0.8.0,>=0.7.8 in /usr/local/lib/python3.10/dist-packages (from thinc<8.3.0,>=8.2.2->spacy<3.8.0,>=3.7.2->en-core-web-lg==3.7.1) (0.7.11)\n",
            "Requirement already satisfied: confection<1.0.0,>=0.0.1 in /usr/local/lib/python3.10/dist-packages (from thinc<8.3.0,>=8.2.2->spacy<3.8.0,>=3.7.2->en-core-web-lg==3.7.1) (0.1.4)\n",
            "Requirement already satisfied: click<9.0.0,>=7.1.1 in /usr/local/lib/python3.10/dist-packages (from typer<0.10.0,>=0.3.0->spacy<3.8.0,>=3.7.2->en-core-web-lg==3.7.1) (8.1.7)\n",
            "Requirement already satisfied: cloudpathlib<0.17.0,>=0.7.0 in /usr/local/lib/python3.10/dist-packages (from weasel<0.4.0,>=0.1.0->spacy<3.8.0,>=3.7.2->en-core-web-lg==3.7.1) (0.16.0)\n",
            "Requirement already satisfied: MarkupSafe>=2.0 in /usr/local/lib/python3.10/dist-packages (from jinja2->spacy<3.8.0,>=3.7.2->en-core-web-lg==3.7.1) (2.1.5)\n",
            "Installing collected packages: en-core-web-lg\n",
            "Successfully installed en-core-web-lg-3.7.1\n",
            "\u001b[38;5;2m✔ Download and installation successful\u001b[0m\n",
            "You can now load the package via spacy.load('en_core_web_lg')\n",
            "\u001b[38;5;3m⚠ Restart to reload dependencies\u001b[0m\n",
            "If you are in a Jupyter or Colab notebook, you may need to restart Python in\n",
            "order to load all the package's dependencies. You can do this by selecting the\n",
            "'Restart kernel' or 'Restart runtime' option.\n"
          ]
        }
      ]
    },
    {
      "cell_type": "code",
      "source": [
        "nlp=spacy.load('en_core_web_lg')"
      ],
      "metadata": {
        "id": "5hEDSZIVZCTu"
      },
      "execution_count": 233,
      "outputs": []
    },
    {
      "cell_type": "code",
      "source": [
        "doc=nlp('dog cat bannana kem')\n",
        "\n",
        "for token in doc:\n",
        "  print(token.text,\"vector\", token.has_vector,\"OOv:\",token.is_oov)"
      ],
      "metadata": {
        "id": "Px7DNZb0ZV6i",
        "outputId": "e2d7c36f-b3ca-4b05-c765-41aa1aad5770",
        "colab": {
          "base_uri": "https://localhost:8080/"
        }
      },
      "execution_count": 235,
      "outputs": [
        {
          "output_type": "stream",
          "name": "stdout",
          "text": [
            "dog vector True OOv: False\n",
            "cat vector True OOv: False\n",
            "bannana vector False OOv: True\n",
            "kem vector False OOv: True\n"
          ]
        }
      ]
    },
    {
      "cell_type": "code",
      "source": [
        "doc[0].vector.shape"
      ],
      "metadata": {
        "id": "-ARQl-87arud",
        "outputId": "b73d548c-6585-4fb9-94e1-ed34fa72d52f",
        "colab": {
          "base_uri": "https://localhost:8080/"
        }
      },
      "execution_count": 236,
      "outputs": [
        {
          "output_type": "execute_result",
          "data": {
            "text/plain": [
              "(300,)"
            ]
          },
          "metadata": {},
          "execution_count": 236
        }
      ]
    },
    {
      "cell_type": "code",
      "source": [
        "base_token=nlp('bread')"
      ],
      "metadata": {
        "id": "AgmYu-gJiERQ"
      },
      "execution_count": 237,
      "outputs": []
    },
    {
      "cell_type": "code",
      "source": [
        "base_token.vector.shape"
      ],
      "metadata": {
        "id": "H0FCfG88iIxt",
        "outputId": "03307a85-11d1-4f2f-fb4e-81d661fc344e",
        "colab": {
          "base_uri": "https://localhost:8080/"
        }
      },
      "execution_count": 238,
      "outputs": [
        {
          "output_type": "execute_result",
          "data": {
            "text/plain": [
              "(300,)"
            ]
          },
          "metadata": {},
          "execution_count": 238
        }
      ]
    },
    {
      "cell_type": "code",
      "source": [
        "doc=nlp(\"sandwich burger car tiger human wheat\")\n",
        "\n",
        "for token in doc:\n",
        "  print(f\"{token.text}<->{base_token.text:}\",token.similarity(base_token))"
      ],
      "metadata": {
        "id": "EuZe29IEiMxu",
        "outputId": "37a1d56c-0295-45c4-fbd3-c77956cee4c8",
        "colab": {
          "base_uri": "https://localhost:8080/"
        }
      },
      "execution_count": 239,
      "outputs": [
        {
          "output_type": "stream",
          "name": "stdout",
          "text": [
            "sandwich<->bread 0.6341067010130894\n",
            "burger<->bread 0.47520687769584247\n",
            "car<->bread 0.06451533308853552\n",
            "tiger<->bread 0.04764611675903374\n",
            "human<->bread 0.2151154210812192\n",
            "wheat<->bread 0.6150360888607199\n"
          ]
        }
      ]
    },
    {
      "cell_type": "code",
      "source": [
        "def print_similarity(base_word,words_to_compare):\n",
        "  base_token=nlp(base_word)\n",
        "  doc=nlp(words_to_compare)\n",
        "  for token in doc:\n",
        "    print(f\"{token.text} <-> {base_token.text}: \",token.similarity(base_token))"
      ],
      "metadata": {
        "id": "8at40K4Zi9l0"
      },
      "execution_count": 242,
      "outputs": []
    },
    {
      "cell_type": "code",
      "source": [
        "print_similarity('iphone','apple samsung dog kitchen')"
      ],
      "metadata": {
        "id": "xJ0-f2EtjtzH",
        "outputId": "907ecfc2-53b1-4d5e-d4bf-2ff36d21efbb",
        "colab": {
          "base_uri": "https://localhost:8080/"
        }
      },
      "execution_count": 243,
      "outputs": [
        {
          "output_type": "stream",
          "name": "stdout",
          "text": [
            "apple <-> iphone:  0.4387907401919904\n",
            "samsung <-> iphone:  0.670859081425417\n",
            "dog <-> iphone:  0.08211864228011527\n",
            "kitchen <-> iphone:  0.20595275957182724\n"
          ]
        }
      ]
    },
    {
      "cell_type": "code",
      "source": [
        "king=nlp.vocab['king'].vector\n",
        "man=nlp.vocab['man'].vector\n",
        "woman=nlp.vocab['woman'].vector\n",
        "queen=nlp.vocab['queen'].vector\n",
        "\n",
        "result=king-man+woman"
      ],
      "metadata": {
        "id": "6uJvOFBkj1Xu"
      },
      "execution_count": 245,
      "outputs": []
    },
    {
      "cell_type": "code",
      "source": [
        "from sklearn.metrics.pairwise import cosine_similarity\n",
        "\n",
        "cosine_similarity([result],[queen])"
      ],
      "metadata": {
        "id": "m_laC7cHkqaG",
        "outputId": "ac731ab0-a650-44c0-b8c2-dcc4b9e6201a",
        "colab": {
          "base_uri": "https://localhost:8080/"
        }
      },
      "execution_count": 247,
      "outputs": [
        {
          "output_type": "execute_result",
          "data": {
            "text/plain": [
              "array([[0.61780137]], dtype=float32)"
            ]
          },
          "metadata": {},
          "execution_count": 247
        }
      ]
    },
    {
      "cell_type": "code",
      "source": [
        "# Word Vectors in Gensim\n",
        "import gensim.downloader as api"
      ],
      "metadata": {
        "id": "PHh5C-flk72n"
      },
      "execution_count": 248,
      "outputs": []
    },
    {
      "cell_type": "code",
      "source": [
        "wv=api.load(\"word2vec-google-news-300\")"
      ],
      "metadata": {
        "id": "VvuLj8_glc0d",
        "outputId": "9c03ebe2-1b79-47e7-c053-edf4f6086430",
        "colab": {
          "base_uri": "https://localhost:8080/"
        }
      },
      "execution_count": 249,
      "outputs": [
        {
          "output_type": "stream",
          "name": "stdout",
          "text": [
            "[==================================================] 100.0% 1662.8/1662.8MB downloaded\n"
          ]
        }
      ]
    },
    {
      "cell_type": "code",
      "source": [
        "wv.similarity(w1='great',w2='well')"
      ],
      "metadata": {
        "id": "hMh22ZaklksY",
        "outputId": "29317e5d-aa56-4247-b262-893aa9d21b35",
        "colab": {
          "base_uri": "https://localhost:8080/"
        }
      },
      "execution_count": 251,
      "outputs": [
        {
          "output_type": "execute_result",
          "data": {
            "text/plain": [
              "0.4098271"
            ]
          },
          "metadata": {},
          "execution_count": 251
        }
      ]
    },
    {
      "cell_type": "code",
      "source": [
        "wv.similarity(w1='profit',w2='well')"
      ],
      "metadata": {
        "id": "eaxEWmNplr9D",
        "outputId": "8f01bc45-d33a-4394-8a8d-596ee392efcf",
        "colab": {
          "base_uri": "https://localhost:8080/"
        }
      },
      "execution_count": 252,
      "outputs": [
        {
          "output_type": "execute_result",
          "data": {
            "text/plain": [
              "0.048574597"
            ]
          },
          "metadata": {},
          "execution_count": 252
        }
      ]
    },
    {
      "cell_type": "code",
      "source": [
        "wv.most_similar('good')"
      ],
      "metadata": {
        "id": "8dQ0fUisl4k1",
        "outputId": "f6625a2b-0cbb-43c5-9710-34e7beae739b",
        "colab": {
          "base_uri": "https://localhost:8080/"
        }
      },
      "execution_count": 254,
      "outputs": [
        {
          "output_type": "execute_result",
          "data": {
            "text/plain": [
              "[('great', 0.7291510105133057),\n",
              " ('bad', 0.7190051078796387),\n",
              " ('terrific', 0.6889115571975708),\n",
              " ('decent', 0.6837348341941833),\n",
              " ('nice', 0.6836092472076416),\n",
              " ('excellent', 0.644292950630188),\n",
              " ('fantastic', 0.6407778263092041),\n",
              " ('better', 0.6120728850364685),\n",
              " ('solid', 0.5806034803390503),\n",
              " ('lousy', 0.576420247554779)]"
            ]
          },
          "metadata": {},
          "execution_count": 254
        }
      ]
    },
    {
      "cell_type": "code",
      "source": [
        "wv.doesnt_match(['dog','cat','lion','microsoft'])"
      ],
      "metadata": {
        "id": "7UP26vDMm0nd",
        "outputId": "6b5fdcaf-c7f8-4fce-867b-6fcd7dcbfdab",
        "colab": {
          "base_uri": "https://localhost:8080/",
          "height": 36
        }
      },
      "execution_count": 258,
      "outputs": [
        {
          "output_type": "execute_result",
          "data": {
            "text/plain": [
              "'microsoft'"
            ],
            "application/vnd.google.colaboratory.intrinsic+json": {
              "type": "string"
            }
          },
          "metadata": {},
          "execution_count": 258
        }
      ]
    },
    {
      "cell_type": "code",
      "source": [],
      "metadata": {
        "id": "fP2KaXAbnIw9"
      },
      "execution_count": null,
      "outputs": []
    }
  ],
  "metadata": {
    "colab": {
      "name": "Welcome To Colaboratory",
      "provenance": [],
      "include_colab_link": true
    },
    "kernelspec": {
      "display_name": "Python 3",
      "name": "python3"
    }
  },
  "nbformat": 4,
  "nbformat_minor": 0
}